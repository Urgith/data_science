{
 "cells": [
  {
   "cell_type": "code",
   "execution_count": 10,
   "metadata": {},
   "outputs": [],
   "source": [
    "import pandas as pd\n",
    "from glob import glob as glob_glob\n"
   ]
  },
  {
   "cell_type": "code",
   "execution_count": 11,
   "metadata": {},
   "outputs": [],
   "source": [
    "content = {}\n",
    "for file_name in glob_glob('performance/**/*txt', recursive=True):\n",
    "    with open(file_name, 'r', encoding='utf-16') as file:\n",
    "        content[file_name.rstrip('.txt').split('\\\\')[-1]] = [line.split(maxsplit=5) for line in file.read().split('\\n\\n')[-2].split('\\n')]\n"
   ]
  },
  {
   "cell_type": "code",
   "execution_count": 12,
   "metadata": {},
   "outputs": [],
   "source": [
    "writer = pd.ExcelWriter('performance.xlsx', engine='xlsxwriter')\n",
    "\n",
    "for key, value in content.items():\n",
    "    df = pd.DataFrame(value[1:], columns=['ncalls', 'tottime', 'percall', 'cumtime', 'percall', 'function'])\n",
    "    df['ncalls'] = df['ncalls'].str.split('/').str.get(-1).astype('int')\n",
    "    df['tottime'] = df['tottime'].astype('float')\n",
    "    df['percall'] = df['percall'].astype('float')\n",
    "    df['cumtime'] = df['cumtime'].astype('float')\n",
    "    df['percall'] = df['percall'].astype('float')\n",
    "\n",
    "    df.to_excel(writer, key, columns=['ncalls', 'tottime', 'percall', 'cumtime', 'percall', 'function'], index=False)\n",
    "\n",
    "writer.save()\n"
   ]
  },
  {
   "cell_type": "code",
   "execution_count": 13,
   "metadata": {},
   "outputs": [
    {
     "name": "stderr",
     "output_type": "stream",
     "text": [
      "c:\\Users\\acer\\AppData\\Local\\Programs\\Python\\Python310\\lib\\site-packages\\xlsxwriter\\workbook.py:339: UserWarning: Calling close() on already closed file.\n",
      "  warn(\"Calling close() on already closed file.\")\n"
     ]
    }
   ],
   "source": [
    "writer.close()\n"
   ]
  }
 ],
 "metadata": {
  "interpreter": {
   "hash": "229cdfb8eedfa4964725b7eb0da8d7a63b25d97a6ab808f09bd6b506844c0629"
  },
  "kernelspec": {
   "display_name": "Python 3.10.4 64-bit",
   "language": "python",
   "name": "python3"
  },
  "language_info": {
   "codemirror_mode": {
    "name": "ipython",
    "version": 3
   },
   "file_extension": ".py",
   "mimetype": "text/x-python",
   "name": "python",
   "nbconvert_exporter": "python",
   "pygments_lexer": "ipython3",
   "version": "3.10.4"
  },
  "orig_nbformat": 4
 },
 "nbformat": 4,
 "nbformat_minor": 2
}
