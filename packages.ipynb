{
 "cells": [
  {
   "cell_type": "code",
   "execution_count": 54,
   "metadata": {},
   "outputs": [],
   "source": [
    "import pandas as pd\n",
    "from glob import glob as glob_glob\n",
    "from collections import defaultdict\n"
   ]
  },
  {
   "cell_type": "code",
   "execution_count": 55,
   "metadata": {},
   "outputs": [],
   "source": [
    "dates = []\n",
    "packages = set()\n",
    "for file_name in glob_glob('packages/*txt'):\n",
    "    with open(file_name, 'r') as file:\n",
    "        for line in file:\n",
    "            splitted_line = line.split('==')\n",
    "            packages.add(splitted_line[0])\n",
    "\n",
    "    to_append = '/'.join(file_name.rstrip('.txt').split('_')[1:])\n",
    "    if to_append[-2] == '/':\n",
    "        to_append = to_append[:-2] + '_' + to_append[-1]\n",
    "\n",
    "    dates.append(to_append)\n",
    "\n",
    "dates.append('package')\n",
    "dates.reverse()\n"
   ]
  },
  {
   "cell_type": "code",
   "execution_count": 56,
   "metadata": {},
   "outputs": [],
   "source": [
    "lines = defaultdict(list)\n",
    "for file_name in glob_glob('packages/*txt'):\n",
    "    with open(file_name, 'r') as file:\n",
    "        for line in file:\n",
    "            splitted_line = line.split('==')\n",
    "            lines[splitted_line[0]].append(splitted_line[1])\n"
   ]
  },
  {
   "cell_type": "code",
   "execution_count": 57,
   "metadata": {},
   "outputs": [],
   "source": [
    "full_lines = []\n",
    "for package in sorted(packages, key=lambda x: x.lower()):\n",
    "    full_lines.append([package] + sorted(lines[package], reverse=True))\n"
   ]
  },
  {
   "cell_type": "code",
   "execution_count": 58,
   "metadata": {},
   "outputs": [],
   "source": [
    "df = pd.DataFrame(full_lines)\n"
   ]
  },
  {
   "cell_type": "code",
   "execution_count": 60,
   "metadata": {},
   "outputs": [],
   "source": [
    "df.to_excel('packages.xlsx', header=dates, index=False)\n"
   ]
  }
 ],
 "metadata": {
  "interpreter": {
   "hash": "229cdfb8eedfa4964725b7eb0da8d7a63b25d97a6ab808f09bd6b506844c0629"
  },
  "kernelspec": {
   "display_name": "Python 3.10.4 64-bit",
   "language": "python",
   "name": "python3"
  },
  "language_info": {
   "codemirror_mode": {
    "name": "ipython",
    "version": 3
   },
   "file_extension": ".py",
   "mimetype": "text/x-python",
   "name": "python",
   "nbconvert_exporter": "python",
   "pygments_lexer": "ipython3",
   "version": "3.10.4"
  },
  "orig_nbformat": 4
 },
 "nbformat": 4,
 "nbformat_minor": 2
}
