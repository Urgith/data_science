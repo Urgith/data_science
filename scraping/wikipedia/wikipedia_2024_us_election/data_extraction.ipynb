{
 "cells": [
  {
   "cell_type": "code",
   "execution_count": 1,
   "id": "adad1f68",
   "metadata": {},
   "outputs": [],
   "source": [
    "from bs4 import BeautifulSoup\n",
    "import pandas as pd\n"
   ]
  },
  {
   "cell_type": "code",
   "execution_count": 2,
   "id": "ee63946d",
   "metadata": {},
   "outputs": [],
   "source": [
    "with open('data_2024_election.txt', 'r', encoding='utf-8') as file:\n",
    "    text = file.read()\n"
   ]
  },
  {
   "cell_type": "code",
   "execution_count": 3,
   "id": "bc60667b",
   "metadata": {},
   "outputs": [],
   "source": [
    "soup = BeautifulSoup(text, 'html.parser')\n",
    "table = soup.find('table', {'style': 'text-align:right;font-size:90%;line-height:1.2'})\n"
   ]
  },
  {
   "cell_type": "code",
   "execution_count": 4,
   "id": "32ff4ab8",
   "metadata": {},
   "outputs": [],
   "source": [
    "full_data = []\n"
   ]
  },
  {
   "cell_type": "code",
   "execution_count": 5,
   "id": "7534cd14",
   "metadata": {},
   "outputs": [],
   "source": [
    "for row in table.find_all('tr')[2:-1]:\n",
    "    full_data.append([data for data in row.text.split('\\n') if data])\n"
   ]
  },
  {
   "cell_type": "code",
   "execution_count": 6,
   "id": "3ff374d9",
   "metadata": {},
   "outputs": [],
   "source": [
    "df = pd.DataFrame(full_data)\n"
   ]
  },
  {
   "cell_type": "code",
   "execution_count": 7,
   "id": "f622f29c",
   "metadata": {},
   "outputs": [],
   "source": [
    "df.columns = ['State', 'Trump/Vance Republican Votes', 'Trump/Vance Republican %', 'Trump/Vance Republican EV', 'Harris/Walz Democratic Votes', 'Harris/Walz Democratic %', 'Harris/Walz Democratic EV', 'Stein/Ware Green Votes', 'Stein/Ware Green %', 'Stein/Ware Green EV', 'Kennedy/Shanahan Independent Votes', 'Kennedy/Shanahan Independent %', 'Kennedy/Shanahan Independent EV', 'Oliver/Maat Libertarian Votes', 'Oliver/Maat Libertarian %', 'Oliver/Maat Libertarian EV', 'Others Votes', 'Others %', 'Others EV', 'Margin Votes', 'Margin %', 'Margin swing', 'Total votes']\n"
   ]
  },
  {
   "cell_type": "code",
   "execution_count": 8,
   "id": "853c19e3",
   "metadata": {},
   "outputs": [],
   "source": [
    "new_states = []\n",
    "for state in df.State:\n",
    "    temp = state\n",
    "    while temp[-1] == ']':\n",
    "        temp = temp[:-5]\n",
    "\n",
    "    new_states.append(temp)\n",
    "\n",
    "df.State = new_states\n"
   ]
  },
  {
   "cell_type": "code",
   "execution_count": 9,
   "id": "58766b79",
   "metadata": {},
   "outputs": [],
   "source": [
    "df['Trump/Vance Republican Votes'] = df['Trump/Vance Republican Votes'].str.replace(',', '').astype(int)\n",
    "df['Trump/Vance Republican %'] = df['Trump/Vance Republican %'].str.replace('%', '').astype(float)\n",
    "\n",
    "df['Harris/Walz Democratic Votes'] = df['Harris/Walz Democratic Votes'].str.replace(',', '').astype(int)\n",
    "df['Harris/Walz Democratic %'] = df['Harris/Walz Democratic %'].str.replace('%', '').astype(float)\n",
    "\n",
    "df = df.replace('–', '0')\n",
    "\n",
    "df['Stein/Ware Green Votes'] = df['Stein/Ware Green Votes'].str.replace(',', '').astype(int)\n",
    "df['Stein/Ware Green %'] = df['Stein/Ware Green %'].str.replace('%', '').astype(float)\n",
    "\n",
    "df['Kennedy/Shanahan Independent Votes'] = df['Kennedy/Shanahan Independent Votes'].str.replace(',', '').astype(int)\n",
    "df['Kennedy/Shanahan Independent %'] = df['Kennedy/Shanahan Independent %'].str.replace('%', '').astype(float)\n",
    "\n",
    "df[df['Oliver/Maat Libertarian Votes'] == '–']['Oliver/Maat Libertarian Votes'] = '0'\n",
    "df['Oliver/Maat Libertarian Votes'] = df['Oliver/Maat Libertarian Votes'].str.replace(',', '').astype(int)\n",
    "df['Oliver/Maat Libertarian %'] = df['Oliver/Maat Libertarian %'].str.replace('%', '').astype(float)\n",
    "\n",
    "df['Others Votes'] = df['Others Votes'].str.replace(',', '').astype(int)\n",
    "df['Others %'] = df['Others %'].str.replace('%', '').astype(float)\n",
    "\n",
    "df['Margin Votes'] = df['Margin Votes'].str.replace(',', '').str.replace('−', '-').astype(int)\n",
    "df['Margin %'] = df['Margin %'].str.replace('%', '').str.replace('−', '-').astype(float)\n",
    "df['Margin swing'] = df['Margin swing'].str.replace('%', '').str.replace('−', '-').astype(float)\n",
    "\n",
    "df['Total votes'] = df['Total votes'].str.replace(',', '').astype(int)\n",
    "\n",
    "df['Trump/Vance Republican EV'] = df['Trump/Vance Republican EV'].astype(int)\n",
    "df['Harris/Walz Democratic EV'] = df['Harris/Walz Democratic EV'].astype(int)\n",
    "df['Stein/Ware Green EV'] = df['Stein/Ware Green EV'].astype(int)\n",
    "df['Kennedy/Shanahan Independent EV'] = df['Kennedy/Shanahan Independent EV'].astype(int)\n",
    "df['Oliver/Maat Libertarian EV'] = df['Oliver/Maat Libertarian EV'].astype(int)\n",
    "df['Others EV'] = df['Others EV'].astype(int)\n"
   ]
  },
  {
   "cell_type": "code",
   "execution_count": 10,
   "id": "4189bdb7",
   "metadata": {},
   "outputs": [],
   "source": [
    "df.to_excel('data.xlsx', index=False)\n"
   ]
  }
 ],
 "metadata": {
  "kernelspec": {
   "display_name": "Python 3",
   "language": "python",
   "name": "python3"
  },
  "language_info": {
   "codemirror_mode": {
    "name": "ipython",
    "version": 3
   },
   "file_extension": ".py",
   "mimetype": "text/x-python",
   "name": "python",
   "nbconvert_exporter": "python",
   "pygments_lexer": "ipython3",
   "version": "3.10.4"
  }
 },
 "nbformat": 4,
 "nbformat_minor": 5
}
