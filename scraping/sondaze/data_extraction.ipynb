{
 "cells": [
  {
   "cell_type": "code",
   "execution_count": 194,
   "id": "dbdce151",
   "metadata": {},
   "outputs": [],
   "source": [
    "from bs4 import BeautifulSoup\n",
    "import pandas as pd\n"
   ]
  },
  {
   "cell_type": "code",
   "execution_count": 195,
   "id": "38ea9863",
   "metadata": {},
   "outputs": [],
   "source": [
    "with open('data_sondaze.txt', 'r', encoding='utf-8') as file:\n",
    "    text = file.read()\n"
   ]
  },
  {
   "cell_type": "code",
   "execution_count": 196,
   "id": "5527dbb2",
   "metadata": {},
   "outputs": [],
   "source": [
    "soup = BeautifulSoup(text, 'html.parser')\n",
    "table = soup.find('div', {'id': '2025'})\n"
   ]
  },
  {
   "cell_type": "code",
   "execution_count": 197,
   "id": "9c3cdfd3",
   "metadata": {},
   "outputs": [],
   "source": [
    "razem = []\n",
    "lewica = []\n",
    "ko = []\n",
    "pl2050 = []\n",
    "psl = []\n",
    "pis = []\n",
    "konfederacja = []\n",
    "kkp = []\n",
    "\n",
    "td = [None, None, None, None, None, None]\n"
   ]
  },
  {
   "cell_type": "code",
   "execution_count": 198,
   "id": "edc12d09",
   "metadata": {},
   "outputs": [],
   "source": [
    "for j, entry in enumerate(table.find_all('td', {'class': 'polls_result'})):\n",
    "    if j < 48:\n",
    "        if j % 8 == 0:\n",
    "            razem.append(entry.text)\n",
    "        elif j % 8 == 1:\n",
    "            lewica.append(entry.text)\n",
    "        elif j % 8 == 2:\n",
    "            ko.append(entry.text)\n",
    "        elif j % 8 == 3:\n",
    "            pl2050.append(entry.text)\n",
    "        elif j % 8 == 4:\n",
    "            psl.append(entry.text)\n",
    "        elif j % 8 == 5:\n",
    "            pis.append(entry.text)\n",
    "        elif j % 8 == 6:\n",
    "            konfederacja.append(entry.text)\n",
    "        elif j % 8 == 7:\n",
    "            kkp.append(entry.text)\n",
    "\n",
    "    else:\n",
    "        if j % 7 == 6:\n",
    "            razem.append(entry.text)\n",
    "        elif j % 7 == 0:\n",
    "            lewica.append(entry.text)\n",
    "        elif j % 7 == 1:\n",
    "            ko.append(entry.text)\n",
    "        elif j % 7 == 2:\n",
    "            td.append(entry.text)\n",
    "        elif j % 7 == 3:\n",
    "            pis.append(entry.text)\n",
    "        elif j % 7 == 4:\n",
    "            konfederacja.append(entry.text)\n",
    "        elif j % 7 == 5:\n",
    "            kkp.append(entry.text)\n"
   ]
  },
  {
   "cell_type": "code",
   "execution_count": 199,
   "id": "e2c79ff6",
   "metadata": {},
   "outputs": [],
   "source": [
    "df = pd.DataFrame([razem, lewica, ko, pl2050, psl, pis, konfederacja, kkp, td]).transpose()\n",
    "df.columns = ['Razem', 'Lewica', 'Ko', 'Pl2025', 'Psl', 'Pis', 'Konfederacja', 'Kkp', 'Td']\n",
    "\n",
    "df = df.replace('—', None)\n",
    "df = df.astype(float)\n"
   ]
  },
  {
   "cell_type": "code",
   "execution_count": 200,
   "id": "63287bd2",
   "metadata": {},
   "outputs": [],
   "source": [
    "df.to_excel('data.xlsx', index=False)\n"
   ]
  }
 ],
 "metadata": {
  "kernelspec": {
   "display_name": "Python 3",
   "language": "python",
   "name": "python3"
  },
  "language_info": {
   "codemirror_mode": {
    "name": "ipython",
    "version": 3
   },
   "file_extension": ".py",
   "mimetype": "text/x-python",
   "name": "python",
   "nbconvert_exporter": "python",
   "pygments_lexer": "ipython3",
   "version": "3.10.4"
  }
 },
 "nbformat": 4,
 "nbformat_minor": 5
}
