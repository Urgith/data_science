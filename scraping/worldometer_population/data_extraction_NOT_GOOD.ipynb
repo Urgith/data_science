{
 "cells": [
  {
   "cell_type": "code",
   "execution_count": 1,
   "id": "269ac02c",
   "metadata": {},
   "outputs": [],
   "source": [
    "from bs4 import BeautifulSoup\n",
    "import pandas as pd\n"
   ]
  },
  {
   "cell_type": "code",
   "execution_count": 2,
   "id": "c5512327",
   "metadata": {},
   "outputs": [],
   "source": [
    "with open('data_worldometer.txt', 'r', encoding='utf-8') as file:\n",
    "    text = file.read()\n"
   ]
  },
  {
   "cell_type": "code",
   "execution_count": 3,
   "id": "e94b4547",
   "metadata": {},
   "outputs": [],
   "source": [
    "soup = BeautifulSoup(text, 'html.parser')\n",
    "table = soup.find('table', {'data-locale': 'en'})\n",
    "table = table.find_all('tr')\n"
   ]
  },
  {
   "cell_type": "code",
   "execution_count": 4,
   "id": "9ce7382c",
   "metadata": {},
   "outputs": [],
   "source": [
    "full_data = []\n",
    "\n",
    "for row in table[1:]:\n",
    "    data = row.text.split(' ')[2:]\n",
    "    data.remove('')\n",
    "    data = data[:-2]\n",
    "\n",
    "    for i, element in enumerate(data):\n",
    "        if element == '':\n",
    "            break\n",
    "\n",
    "    new_country = ' '.join(data[1:i])\n",
    "\n",
    "    for _ in range(i - 2):\n",
    "        data.pop(2)\n",
    "\n",
    "    data[1] = new_country\n",
    "    full_data.append(data)\n"
   ]
  },
  {
   "cell_type": "code",
   "execution_count": 5,
   "id": "aec59680",
   "metadata": {},
   "outputs": [],
   "source": [
    "df = pd.DataFrame(full_data)\n"
   ]
  },
  {
   "cell_type": "code",
   "execution_count": 6,
   "id": "b01d276f",
   "metadata": {},
   "outputs": [],
   "source": [
    "df.to_excel('data.xlsx', index=False)\n"
   ]
  }
 ],
 "metadata": {
  "kernelspec": {
   "display_name": "Python 3",
   "language": "python",
   "name": "python3"
  },
  "language_info": {
   "codemirror_mode": {
    "name": "ipython",
    "version": 3
   },
   "file_extension": ".py",
   "mimetype": "text/x-python",
   "name": "python",
   "nbconvert_exporter": "python",
   "pygments_lexer": "ipython3",
   "version": "3.10.4"
  }
 },
 "nbformat": 4,
 "nbformat_minor": 5
}
