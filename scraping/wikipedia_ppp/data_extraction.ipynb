{
 "cells": [
  {
   "cell_type": "code",
   "execution_count": 73,
   "id": "7ff46ea7",
   "metadata": {},
   "outputs": [],
   "source": [
    "from bs4 import BeautifulSoup\n",
    "import pandas as pd\n"
   ]
  },
  {
   "cell_type": "code",
   "execution_count": 74,
   "id": "0f46af8c",
   "metadata": {},
   "outputs": [],
   "source": [
    "with open('data_ppp.txt', 'r', encoding='utf-8') as file:\n",
    "    text = file.read()\n"
   ]
  },
  {
   "cell_type": "code",
   "execution_count": 75,
   "id": "127f7ca9",
   "metadata": {},
   "outputs": [],
   "source": [
    "soup = BeautifulSoup(text, 'html.parser')\n",
    "table = soup.find('table', {'class': 'wikitable sortable sticky-header-multi sort-under static-row-numbers'})\n"
   ]
  },
  {
   "cell_type": "code",
   "execution_count": 76,
   "id": "c83feacf",
   "metadata": {},
   "outputs": [],
   "source": [
    "table = table.find_all('tr')[2:]\n"
   ]
  },
  {
   "cell_type": "code",
   "execution_count": 77,
   "id": "f293a64e",
   "metadata": {},
   "outputs": [],
   "source": [
    "countries = []\n",
    "ppp = []\n"
   ]
  },
  {
   "cell_type": "code",
   "execution_count": 78,
   "id": "55cdf763",
   "metadata": {},
   "outputs": [
    {
     "name": "stdout",
     "output_type": "stream",
     "text": [
      "['World'] ['206,878,221']\n"
     ]
    }
   ],
   "source": [
    "world = table[0]\n",
    "\n",
    "countries.append(world.find_all('td')[0].text[1:])\n",
    "ppp.append(world.find_all('td')[1].text)\n",
    "\n",
    "print(countries, ppp)\n",
    "\n",
    "table = table[1:]"
   ]
  },
  {
   "cell_type": "code",
   "execution_count": 79,
   "id": "99ccc511",
   "metadata": {},
   "outputs": [],
   "source": [
    "for entry in table:\n",
    "    is_name = False\n",
    "    for result in [e for e in entry if e != '\\n']:\n",
    "        if is_name:\n",
    "            ppp.append(result.text)\n",
    "            is_name = False\n",
    "\n",
    "        row = result.text.strip()\n",
    "        if row.replace(' ', '').isalpha():\n",
    "            countries.append(row)\n",
    "            is_name = True\n"
   ]
  },
  {
   "cell_type": "code",
   "execution_count": 80,
   "id": "5da4d7a8",
   "metadata": {},
   "outputs": [],
   "source": [
    "df = pd.DataFrame([countries, ppp]).transpose()\n",
    "df.columns = ['Country', 'PPP']\n",
    "\n",
    "df.to_excel('data.xlsx', index=False)\n"
   ]
  }
 ],
 "metadata": {
  "kernelspec": {
   "display_name": "Python 3",
   "language": "python",
   "name": "python3"
  },
  "language_info": {
   "codemirror_mode": {
    "name": "ipython",
    "version": 3
   },
   "file_extension": ".py",
   "mimetype": "text/x-python",
   "name": "python",
   "nbconvert_exporter": "python",
   "pygments_lexer": "ipython3",
   "version": "3.10.4"
  }
 },
 "nbformat": 4,
 "nbformat_minor": 5
}
