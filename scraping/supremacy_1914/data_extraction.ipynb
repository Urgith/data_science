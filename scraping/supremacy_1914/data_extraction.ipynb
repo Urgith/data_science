{
 "cells": [
  {
   "cell_type": "code",
   "execution_count": 1,
   "metadata": {},
   "outputs": [],
   "source": [
    "from bs4 import BeautifulSoup\n",
    "import pandas as pd\n",
    "import glob\n"
   ]
  },
  {
   "cell_type": "code",
   "execution_count": 2,
   "metadata": {},
   "outputs": [],
   "source": [
    "texts = []\n"
   ]
  },
  {
   "cell_type": "code",
   "execution_count": 3,
   "metadata": {},
   "outputs": [],
   "source": [
    "for file in glob.glob('*.txt'):\n",
    "    if file == 'place.txt':\n",
    "        continue\n",
    "\n",
    "    with open(file, 'r', encoding='utf-8') as f:\n",
    "        texts.append(BeautifulSoup(f.read(), 'html.parser'))\n"
   ]
  },
  {
   "cell_type": "code",
   "execution_count": 4,
   "metadata": {},
   "outputs": [],
   "source": [
    "days = []\n",
    "for text in texts:\n",
    "    days.append(text.find_all('div', class_='func_scrollable newspaper_ranking func_overview_content overview_content newspaper_ranking_single'))\n"
   ]
  },
  {
   "cell_type": "code",
   "execution_count": 5,
   "metadata": {},
   "outputs": [],
   "source": [
    "rankings = []\n",
    "countries = []\n",
    "points = []\n"
   ]
  },
  {
   "cell_type": "code",
   "execution_count": 6,
   "metadata": {},
   "outputs": [],
   "source": [
    "for day in days:\n",
    "    rankings.append(day[0].find_all('div', class_='player_rank'))\n",
    "    countries.append(day[0].find_all('div', class_='country_name'))\n",
    "    points.append(day[0].find_all('div', class_='ranking_points'))\n"
   ]
  },
  {
   "cell_type": "code",
   "execution_count": 7,
   "metadata": {},
   "outputs": [],
   "source": [
    "rankings = [[int(text.get_text()) for text in element] for element in rankings]\n",
    "countries = [[text.get_text() for text in element] for element in countries]\n",
    "points = [[int(text.get_text()) for text in element] for element in points]\n"
   ]
  },
  {
   "cell_type": "code",
   "execution_count": 8,
   "metadata": {},
   "outputs": [],
   "source": [
    "df = pd.DataFrame()\n"
   ]
  },
  {
   "cell_type": "code",
   "execution_count": 9,
   "metadata": {},
   "outputs": [],
   "source": [
    "df['country'] = countries[0]\n",
    "df['ranking_1'] = rankings[0]\n",
    "df['points_1'] = points[0]\n",
    "\n",
    "df = df[df['country'] != 'Santa Cruz']\n"
   ]
  },
  {
   "cell_type": "code",
   "execution_count": 10,
   "metadata": {},
   "outputs": [],
   "source": [
    "for i, element in enumerate(range(1, len(rankings)), 1):\n",
    "    df2 = pd.DataFrame()\n",
    "\n",
    "    df2['country'] = countries[i]\n",
    "    df2['ranking_' + str(i + 1)] = rankings[i]\n",
    "    df2['points_' + str(i + 1)] = points[i]\n",
    "\n",
    "    df2 = df2[df2['country'] != 'Santa Cruz']\n",
    "\n",
    "    df = df.merge(df2, on='country', how='left')\n"
   ]
  },
  {
   "cell_type": "code",
   "execution_count": 11,
   "metadata": {},
   "outputs": [],
   "source": [
    "df.to_excel('data.xlsx')\n"
   ]
  }
 ],
 "metadata": {
  "kernelspec": {
   "display_name": "Python 3",
   "language": "python",
   "name": "python3"
  },
  "language_info": {
   "codemirror_mode": {
    "name": "ipython",
    "version": 3
   },
   "file_extension": ".py",
   "mimetype": "text/x-python",
   "name": "python",
   "nbconvert_exporter": "python",
   "pygments_lexer": "ipython3",
   "version": "3.10.4"
  },
  "orig_nbformat": 4
 },
 "nbformat": 4,
 "nbformat_minor": 2
}
