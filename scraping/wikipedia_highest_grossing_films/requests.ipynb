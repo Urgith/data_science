{
 "cells": [
  {
   "cell_type": "code",
   "execution_count": 1,
   "id": "90a6734a",
   "metadata": {},
   "outputs": [],
   "source": [
    "import requests\n"
   ]
  },
  {
   "cell_type": "code",
   "execution_count": 2,
   "id": "65bd50c8",
   "metadata": {},
   "outputs": [],
   "source": [
    "r = requests.get('https://en.wikipedia.org/wiki/List_of_highest-grossing_films')\n",
    "text = r.text\n"
   ]
  },
  {
   "cell_type": "code",
   "execution_count": 5,
   "id": "636e1627",
   "metadata": {},
   "outputs": [],
   "source": [
    "with open('data_box_office.txt', 'w', encoding='utf-8') as file:\n",
    "    file.write(text)\n"
   ]
  }
 ],
 "metadata": {
  "kernelspec": {
   "display_name": "Python 3",
   "language": "python",
   "name": "python3"
  },
  "language_info": {
   "codemirror_mode": {
    "name": "ipython",
    "version": 3
   },
   "file_extension": ".py",
   "mimetype": "text/x-python",
   "name": "python",
   "nbconvert_exporter": "python",
   "pygments_lexer": "ipython3",
   "version": "3.10.4"
  }
 },
 "nbformat": 4,
 "nbformat_minor": 5
}
