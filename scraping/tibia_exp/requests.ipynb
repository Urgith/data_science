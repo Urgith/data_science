{
 "cells": [
  {
   "cell_type": "code",
   "execution_count": 1,
   "id": "c3a4e466",
   "metadata": {},
   "outputs": [],
   "source": [
    "import requests\n"
   ]
  },
  {
   "cell_type": "code",
   "execution_count": 3,
   "id": "2b92038c",
   "metadata": {},
   "outputs": [],
   "source": [
    "r = requests.get('https://www.tibia.com/library/?subtopic=experiencetable')\n",
    "text = r.text\n"
   ]
  },
  {
   "cell_type": "code",
   "execution_count": 4,
   "id": "4b0a8f9b",
   "metadata": {},
   "outputs": [],
   "source": [
    "file = open('data_table.txt', 'w', encoding='utf-8')\n",
    "file.write(text)\n",
    "file.close()\n"
   ]
  }
 ],
 "metadata": {
  "kernelspec": {
   "display_name": "Python 3",
   "language": "python",
   "name": "python3"
  },
  "language_info": {
   "codemirror_mode": {
    "name": "ipython",
    "version": 3
   },
   "file_extension": ".py",
   "mimetype": "text/x-python",
   "name": "python",
   "nbconvert_exporter": "python",
   "pygments_lexer": "ipython3",
   "version": "3.10.4"
  }
 },
 "nbformat": 4,
 "nbformat_minor": 5
}
