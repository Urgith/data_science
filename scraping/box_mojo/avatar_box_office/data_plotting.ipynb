{
 "cells": [
  {
   "cell_type": "code",
   "execution_count": 339,
   "id": "412af32b",
   "metadata": {},
   "outputs": [],
   "source": [
    "import matplotlib.pyplot as plt\n",
    "import matplotlib as mpl\n",
    "import pandas as pd\n",
    "import squarify\n"
   ]
  },
  {
   "cell_type": "code",
   "execution_count": 340,
   "id": "9b1dfd7f",
   "metadata": {},
   "outputs": [],
   "source": [
    "mpl.style.use('classic')\n"
   ]
  },
  {
   "cell_type": "code",
   "execution_count": 341,
   "id": "861e7cb0",
   "metadata": {},
   "outputs": [
    {
     "data": {
      "text/html": [
       "<div>\n",
       "<style scoped>\n",
       "    .dataframe tbody tr th:only-of-type {\n",
       "        vertical-align: middle;\n",
       "    }\n",
       "\n",
       "    .dataframe tbody tr th {\n",
       "        vertical-align: top;\n",
       "    }\n",
       "\n",
       "    .dataframe thead th {\n",
       "        text-align: right;\n",
       "    }\n",
       "</style>\n",
       "<table border=\"1\" class=\"dataframe\">\n",
       "  <thead>\n",
       "    <tr style=\"text-align: right;\">\n",
       "      <th></th>\n",
       "      <th>Country</th>\n",
       "      <th>Releases</th>\n",
       "      <th>Gross</th>\n",
       "      <th>Rank</th>\n",
       "    </tr>\n",
       "  </thead>\n",
       "  <tbody>\n",
       "    <tr>\n",
       "      <th>0</th>\n",
       "      <td>Domestic</td>\n",
       "      <td>3</td>\n",
       "      <td>785221649</td>\n",
       "      <td>4</td>\n",
       "    </tr>\n",
       "    <tr>\n",
       "      <th>1</th>\n",
       "      <td>China</td>\n",
       "      <td>3</td>\n",
       "      <td>262125748</td>\n",
       "      <td>40</td>\n",
       "    </tr>\n",
       "    <tr>\n",
       "      <th>2</th>\n",
       "      <td>France</td>\n",
       "      <td>3</td>\n",
       "      <td>181757632</td>\n",
       "      <td>2</td>\n",
       "    </tr>\n",
       "    <tr>\n",
       "      <th>3</th>\n",
       "      <td>Japan</td>\n",
       "      <td>3</td>\n",
       "      <td>174212285</td>\n",
       "      <td>7</td>\n",
       "    </tr>\n",
       "    <tr>\n",
       "      <th>4</th>\n",
       "      <td>Germany</td>\n",
       "      <td>3</td>\n",
       "      <td>166725521</td>\n",
       "      <td>1</td>\n",
       "    </tr>\n",
       "    <tr>\n",
       "      <th>...</th>\n",
       "      <td>...</td>\n",
       "      <td>...</td>\n",
       "      <td>...</td>\n",
       "      <td>...</td>\n",
       "    </tr>\n",
       "    <tr>\n",
       "      <th>73</th>\n",
       "      <td>Mongolia</td>\n",
       "      <td>2</td>\n",
       "      <td>188558</td>\n",
       "      <td>14</td>\n",
       "    </tr>\n",
       "    <tr>\n",
       "      <th>74</th>\n",
       "      <td>Nigeria</td>\n",
       "      <td>1</td>\n",
       "      <td>132847</td>\n",
       "      <td>88</td>\n",
       "    </tr>\n",
       "    <tr>\n",
       "      <th>75</th>\n",
       "      <td>Paraguay</td>\n",
       "      <td>1</td>\n",
       "      <td>120000</td>\n",
       "      <td>91</td>\n",
       "    </tr>\n",
       "    <tr>\n",
       "      <th>76</th>\n",
       "      <td>Ghana</td>\n",
       "      <td>1</td>\n",
       "      <td>59590</td>\n",
       "      <td>27</td>\n",
       "    </tr>\n",
       "    <tr>\n",
       "      <th>77</th>\n",
       "      <td>Cambodia</td>\n",
       "      <td>1</td>\n",
       "      <td>9794</td>\n",
       "      <td>26</td>\n",
       "    </tr>\n",
       "  </tbody>\n",
       "</table>\n",
       "<p>78 rows × 4 columns</p>\n",
       "</div>"
      ],
      "text/plain": [
       "     Country  Releases      Gross  Rank\n",
       "0   Domestic         3  785221649     4\n",
       "1      China         3  262125748    40\n",
       "2     France         3  181757632     2\n",
       "3      Japan         3  174212285     7\n",
       "4    Germany         3  166725521     1\n",
       "..       ...       ...        ...   ...\n",
       "73  Mongolia         2     188558    14\n",
       "74   Nigeria         1     132847    88\n",
       "75  Paraguay         1     120000    91\n",
       "76     Ghana         1      59590    27\n",
       "77  Cambodia         1       9794    26\n",
       "\n",
       "[78 rows x 4 columns]"
      ]
     },
     "execution_count": 341,
     "metadata": {},
     "output_type": "execute_result"
    }
   ],
   "source": [
    "df = pd.read_excel('data.xlsx')\n",
    "df = df.sort_values('Gross', ascending=False)\n",
    "df = df.reset_index(drop=True)\n",
    "df\n"
   ]
  },
  {
   "cell_type": "code",
   "execution_count": 342,
   "id": "e0090db8",
   "metadata": {},
   "outputs": [
    {
     "name": "stderr",
     "output_type": "stream",
     "text": [
      "C:\\Users\\acer\\AppData\\Local\\Temp\\ipykernel_5760\\2220031014.py:6: FutureWarning: Series.__getitem__ treating keys as positions is deprecated. In a future version, integer keys will always be treated as labels (consistent with DataFrame behavior). To access a value by position, use `ser.iloc[pos]`\n",
      "  new_gross.append(row[2])\n",
      "C:\\Users\\acer\\AppData\\Local\\Temp\\ipykernel_5760\\2220031014.py:7: FutureWarning: Series.__getitem__ treating keys as positions is deprecated. In a future version, integer keys will always be treated as labels (consistent with DataFrame behavior). To access a value by position, use `ser.iloc[pos]`\n",
      "  new_country.append(row[0])\n",
      "C:\\Users\\acer\\AppData\\Local\\Temp\\ipykernel_5760\\2220031014.py:10: FutureWarning: Series.__getitem__ treating keys as positions is deprecated. In a future version, integer keys will always be treated as labels (consistent with DataFrame behavior). To access a value by position, use `ser.iloc[pos]`\n",
      "  num += row[2]\n"
     ]
    }
   ],
   "source": [
    "num = 0\n",
    "new_gross = []\n",
    "new_country = []\n",
    "for i, row in df.iterrows():\n",
    "    if i < 16:\n",
    "        new_gross.append(row[2])\n",
    "        new_country.append(row[0])\n",
    "\n",
    "    else:\n",
    "        num += row[2]\n",
    "\n",
    "new_country.append('Others')\n",
    "new_gross.append(num)\n"
   ]
  },
  {
   "cell_type": "code",
   "execution_count": 343,
   "id": "b1ed3d89",
   "metadata": {},
   "outputs": [],
   "source": [
    "new_df = pd.DataFrame([new_country, new_gross]).transpose()\n",
    "new_df.columns = ['Country', 'Gross']\n"
   ]
  },
  {
   "cell_type": "code",
   "execution_count": 344,
   "id": "1b8fccce",
   "metadata": {},
   "outputs": [
    {
     "data": {
      "image/png": "[encoded data removed]",
      "text/plain": [
       "<Figure size 640x480 with 1 Axes>"
      ]
     },
     "metadata": {},
     "output_type": "display_data"
    }
   ],
   "source": [
    "squarify.plot(sizes=new_df['Gross'], label=new_df['Country'])\n",
    "plt.show()\n"
   ]
  }
 ],
 "metadata": {
  "kernelspec": {
   "display_name": "Python 3",
   "language": "python",
   "name": "python3"
  },
  "language_info": {
   "codemirror_mode": {
    "name": "ipython",
    "version": 3
   },
   "file_extension": ".py",
   "mimetype": "text/x-python",
   "name": "python",
   "nbconvert_exporter": "python",
   "pygments_lexer": "ipython3",
   "version": "3.10.4"
  }
 },
 "nbformat": 4,
 "nbformat_minor": 5
}
