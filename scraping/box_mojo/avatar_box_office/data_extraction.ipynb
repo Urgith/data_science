{
 "cells": [
  {
   "cell_type": "code",
   "execution_count": 15,
   "id": "569c3a42",
   "metadata": {},
   "outputs": [],
   "source": [
    "from bs4 import BeautifulSoup\n",
    "import pandas as pd\n"
   ]
  },
  {
   "cell_type": "code",
   "execution_count": 16,
   "id": "2b9980d0",
   "metadata": {},
   "outputs": [],
   "source": [
    "with open('data_avatar.txt', 'r', encoding='utf-8') as file:\n",
    "    text = file.read()\n"
   ]
  },
  {
   "cell_type": "code",
   "execution_count": 17,
   "id": "ae89b650",
   "metadata": {},
   "outputs": [],
   "source": [
    "soup = BeautifulSoup(text, 'html.parser')\n",
    "tables = soup.find_all('table')[1:]\n"
   ]
  },
  {
   "cell_type": "code",
   "execution_count": 18,
   "id": "f3032fce",
   "metadata": {},
   "outputs": [],
   "source": [
    "country = []\n",
    "releases = []\n",
    "gross = []\n",
    "rank = []\n"
   ]
  },
  {
   "cell_type": "code",
   "execution_count": 19,
   "id": "d29a5819",
   "metadata": {},
   "outputs": [],
   "source": [
    "for table in tables:\n",
    "    tr = table.find_all('tr')\n",
    "\n",
    "    for data in tr:\n",
    "        temp = data.text.split('$')\n",
    "\n",
    "        if len(temp) == 2:\n",
    "            country.append(temp[0][:-1])\n",
    "            releases.append(temp[0][-1])\n",
    "\n",
    "            size = temp[1][::-1].index(',') - 3\n",
    "\n",
    "            gross.append(temp[1][:-size])\n",
    "            rank.append(temp[1][-size:])\n"
   ]
  },
  {
   "cell_type": "code",
   "execution_count": 20,
   "id": "412ca61d",
   "metadata": {},
   "outputs": [],
   "source": [
    "df = pd.DataFrame([country, releases, gross, rank]).transpose()\n"
   ]
  },
  {
   "cell_type": "code",
   "execution_count": 21,
   "id": "285b2d65",
   "metadata": {},
   "outputs": [
    {
     "data": {
      "text/html": [
       "<div>\n",
       "<style scoped>\n",
       "    .dataframe tbody tr th:only-of-type {\n",
       "        vertical-align: middle;\n",
       "    }\n",
       "\n",
       "    .dataframe tbody tr th {\n",
       "        vertical-align: top;\n",
       "    }\n",
       "\n",
       "    .dataframe thead th {\n",
       "        text-align: right;\n",
       "    }\n",
       "</style>\n",
       "<table border=\"1\" class=\"dataframe\">\n",
       "  <thead>\n",
       "    <tr style=\"text-align: right;\">\n",
       "      <th></th>\n",
       "      <th>Country</th>\n",
       "      <th>Releases</th>\n",
       "      <th>Gross</th>\n",
       "      <th>Rank</th>\n",
       "    </tr>\n",
       "  </thead>\n",
       "  <tbody>\n",
       "    <tr>\n",
       "      <th>0</th>\n",
       "      <td>Domestic</td>\n",
       "      <td>3</td>\n",
       "      <td>785221649</td>\n",
       "      <td>4</td>\n",
       "    </tr>\n",
       "    <tr>\n",
       "      <th>1</th>\n",
       "      <td>China</td>\n",
       "      <td>3</td>\n",
       "      <td>262125748</td>\n",
       "      <td>40</td>\n",
       "    </tr>\n",
       "    <tr>\n",
       "      <th>2</th>\n",
       "      <td>France</td>\n",
       "      <td>3</td>\n",
       "      <td>181757632</td>\n",
       "      <td>2</td>\n",
       "    </tr>\n",
       "    <tr>\n",
       "      <th>3</th>\n",
       "      <td>Germany</td>\n",
       "      <td>3</td>\n",
       "      <td>166725521</td>\n",
       "      <td>1</td>\n",
       "    </tr>\n",
       "    <tr>\n",
       "      <th>4</th>\n",
       "      <td>United Kingdom</td>\n",
       "      <td>3</td>\n",
       "      <td>153841911</td>\n",
       "      <td>5</td>\n",
       "    </tr>\n",
       "    <tr>\n",
       "      <th>...</th>\n",
       "      <td>...</td>\n",
       "      <td>...</td>\n",
       "      <td>...</td>\n",
       "      <td>...</td>\n",
       "    </tr>\n",
       "    <tr>\n",
       "      <th>73</th>\n",
       "      <td>Dominican Republic</td>\n",
       "      <td>1</td>\n",
       "      <td>1440545</td>\n",
       "      <td>1</td>\n",
       "    </tr>\n",
       "    <tr>\n",
       "      <th>74</th>\n",
       "      <td>Uruguay</td>\n",
       "      <td>1</td>\n",
       "      <td>1274650</td>\n",
       "      <td>11</td>\n",
       "    </tr>\n",
       "    <tr>\n",
       "      <th>75</th>\n",
       "      <td>Trinidad &amp; Tobago</td>\n",
       "      <td>2</td>\n",
       "      <td>771174</td>\n",
       "      <td>13</td>\n",
       "    </tr>\n",
       "    <tr>\n",
       "      <th>76</th>\n",
       "      <td>Jamaica</td>\n",
       "      <td>1</td>\n",
       "      <td>491669</td>\n",
       "      <td>5</td>\n",
       "    </tr>\n",
       "    <tr>\n",
       "      <th>77</th>\n",
       "      <td>Paraguay</td>\n",
       "      <td>1</td>\n",
       "      <td>120000</td>\n",
       "      <td>91</td>\n",
       "    </tr>\n",
       "  </tbody>\n",
       "</table>\n",
       "<p>78 rows × 4 columns</p>\n",
       "</div>"
      ],
      "text/plain": [
       "               Country  Releases      Gross  Rank\n",
       "0             Domestic         3  785221649     4\n",
       "1                China         3  262125748    40\n",
       "2               France         3  181757632     2\n",
       "3              Germany         3  166725521     1\n",
       "4       United Kingdom         3  153841911     5\n",
       "..                 ...       ...        ...   ...\n",
       "73  Dominican Republic         1    1440545     1\n",
       "74             Uruguay         1    1274650    11\n",
       "75   Trinidad & Tobago         2     771174    13\n",
       "76             Jamaica         1     491669     5\n",
       "77            Paraguay         1     120000    91\n",
       "\n",
       "[78 rows x 4 columns]"
      ]
     },
     "execution_count": 21,
     "metadata": {},
     "output_type": "execute_result"
    }
   ],
   "source": [
    "df.columns = ['Country', 'Releases', 'Gross', 'Rank']\n",
    "\n",
    "df.Releases = df.Releases.astype(int)\n",
    "df.Gross = df.Gross.str.replace(',', '').astype(int)\n",
    "df.Rank = df.Rank.astype(int)\n",
    "\n",
    "df\n"
   ]
  },
  {
   "cell_type": "code",
   "execution_count": 22,
   "id": "f9b8ba61",
   "metadata": {},
   "outputs": [],
   "source": [
    "df.to_excel('data.xlsx', index=False)\n"
   ]
  }
 ],
 "metadata": {
  "kernelspec": {
   "display_name": "Python 3",
   "language": "python",
   "name": "python3"
  },
  "language_info": {
   "codemirror_mode": {
    "name": "ipython",
    "version": 3
   },
   "file_extension": ".py",
   "mimetype": "text/x-python",
   "name": "python",
   "nbconvert_exporter": "python",
   "pygments_lexer": "ipython3",
   "version": "3.10.4"
  }
 },
 "nbformat": 4,
 "nbformat_minor": 5
}
