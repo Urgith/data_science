{
 "cells": [
  {
   "cell_type": "code",
   "execution_count": 1,
   "id": "54c513dc",
   "metadata": {},
   "outputs": [],
   "source": [
    "import requests\n"
   ]
  },
  {
   "cell_type": "code",
   "execution_count": 2,
   "id": "32da2d50",
   "metadata": {},
   "outputs": [],
   "source": [
    "num_of_data = 2000\n",
    "\n",
    "for j in range(0, num_of_data + 1, 200):\n",
    "    r = requests.get(f'https://www.boxofficemojo.com/chart/ww_top_lifetime_gross/?area=XWW&offset={j}')\n",
    "    text = r.text\n",
    "\n",
    "    with open(f'data/worldwide_gross{j}.txt', 'w', encoding='utf-8') as file:\n",
    "        file.write(text)\n"
   ]
  }
 ],
 "metadata": {
  "kernelspec": {
   "display_name": "Python 3",
   "language": "python",
   "name": "python3"
  },
  "language_info": {
   "codemirror_mode": {
    "name": "ipython",
    "version": 3
   },
   "file_extension": ".py",
   "mimetype": "text/x-python",
   "name": "python",
   "nbconvert_exporter": "python",
   "pygments_lexer": "ipython3",
   "version": "3.10.4"
  }
 },
 "nbformat": 4,
 "nbformat_minor": 5
}
