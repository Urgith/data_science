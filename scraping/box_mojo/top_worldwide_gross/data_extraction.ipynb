{
 "cells": [
  {
   "cell_type": "code",
   "execution_count": 207,
   "id": "97e1931a",
   "metadata": {},
   "outputs": [],
   "source": [
    "from bs4 import BeautifulSoup\n",
    "import pandas as pd\n",
    "import numpy as np\n"
   ]
  },
  {
   "cell_type": "code",
   "execution_count": 208,
   "id": "70291e37",
   "metadata": {},
   "outputs": [],
   "source": [
    "full_data = []\n",
    "num_of_data = 2000\n"
   ]
  },
  {
   "cell_type": "code",
   "execution_count": 209,
   "id": "246ce168",
   "metadata": {},
   "outputs": [],
   "source": [
    "def too_much(table, offset=0):\n",
    "    for i, data in enumerate(table.find_all('tr')[1:], 1):\n",
    "        temp = data.text.split('$')\n",
    "\n",
    "        number = str(i + offset)\n",
    "        if len(number) > 3:\n",
    "            list_number = list(number)\n",
    "            list_number.insert(len(number) - 3, ',')\n",
    "            number = ''.join(list_number)\n",
    "\n",
    "        temp[0] = temp[0].replace(number, '')\n",
    "        temp = [i + offset] + temp\n",
    "\n",
    "        temp[3] = temp[3].replace('<', '')\n",
    "\n",
    "        if len(temp) == 4:\n",
    "            temp[2] = temp[2].replace('-', '')\n",
    "            temp.insert(3, '0,00000%')\n",
    "\n",
    "        index = len(temp[3]) - temp[3][::-1].find(',') + 2\n",
    "        temp.insert(3, temp[3][:index + 1])\n",
    "        temp.insert(4, temp[4][index + 1:])\n",
    "        temp.pop(5)\n",
    "        temp.append(temp[-1][-4:])\n",
    "        temp[5] = temp[5][:-4]\n",
    "\n",
    "        index2 = len(temp[5]) - temp[5][::-1].find(',') + 2\n",
    "        temp.insert(5, temp[5][:index2 + 1])\n",
    "        temp.insert(6, temp[6][index2 + 1:])\n",
    "        temp.pop(7)\n",
    "\n",
    "        if '-' in temp[5]:\n",
    "            temp[5] = temp[5][:-1]\n",
    "            temp[6] = '0'\n",
    "\n",
    "        temp[6] = temp[6].replace('<', '')\n",
    "\n",
    "        full_data.append(temp)\n"
   ]
  },
  {
   "cell_type": "code",
   "execution_count": 210,
   "id": "86e0c3d1",
   "metadata": {},
   "outputs": [],
   "source": [
    "text = ''\n",
    "\n",
    "for j in range(0, num_of_data + 1, 200):\n",
    "    with open(f'data/worldwide_gross{j}.txt', 'r', encoding='utf-8') as file:\n",
    "        text += file.read()\n"
   ]
  },
  {
   "cell_type": "code",
   "execution_count": 211,
   "id": "60e06716",
   "metadata": {},
   "outputs": [],
   "source": [
    "soup = BeautifulSoup(text, 'html.parser')\n"
   ]
  },
  {
   "cell_type": "code",
   "execution_count": 212,
   "id": "d9e0f81f",
   "metadata": {},
   "outputs": [],
   "source": [
    "table = soup.find_all('table')\n",
    "\n",
    "for j in range(num_of_data // 200):\n",
    "    too_much(table[j], 200*j)\n"
   ]
  },
  {
   "cell_type": "code",
   "execution_count": 213,
   "id": "629be19e",
   "metadata": {},
   "outputs": [],
   "source": [
    "df = pd.DataFrame(full_data)\n",
    "df.columns = ['Rank', 'Title', 'Worldwide_gross', 'Domestic_gross', 'Domestic %', 'Foreign_gross', 'Foreign %', 'Year']\n",
    "df\n",
    "df.to_excel('data.xlsx', index=False)"
   ]
  },
  {
   "cell_type": "code",
   "execution_count": 214,
   "id": "08e76eb8",
   "metadata": {},
   "outputs": [],
   "source": [
    "df.Worldwide_gross = df.Worldwide_gross.str.replace(',', '')\n",
    "df.Worldwide_gross = df.Worldwide_gross.astype(np.int64)\n",
    "\n",
    "df.Domestic_gross = df.Domestic_gross.str.replace(',', '')\n",
    "df.Domestic_gross = df.Domestic_gross.astype(np.int64)\n",
    "\n",
    "df['Domestic %'] = df['Domestic %'].str.replace('-', '0')\n",
    "df['Domestic %'] = df['Domestic %'].str.replace('%', '').astype(float)\n",
    "\n",
    "df.Foreign_gross = df.Foreign_gross.str.replace(',', '')\n",
    "df.Foreign_gross = df.Foreign_gross.astype(np.int64)\n",
    "\n",
    "df['Foreign %'] = df['Foreign %'].str.replace('-', '0')\n",
    "df['Foreign %'] = df['Foreign %'].str.replace('%', '').astype(float)\n",
    "\n",
    "df.Year = df.Year.astype(int)\n"
   ]
  },
  {
   "cell_type": "code",
   "execution_count": 215,
   "id": "ac950c8f",
   "metadata": {},
   "outputs": [],
   "source": [
    "df.to_excel('data.xlsx', index=False)\n"
   ]
  }
 ],
 "metadata": {
  "kernelspec": {
   "display_name": "Python 3",
   "language": "python",
   "name": "python3"
  },
  "language_info": {
   "codemirror_mode": {
    "name": "ipython",
    "version": 3
   },
   "file_extension": ".py",
   "mimetype": "text/x-python",
   "name": "python",
   "nbconvert_exporter": "python",
   "pygments_lexer": "ipython3",
   "version": "3.10.4"
  }
 },
 "nbformat": 4,
 "nbformat_minor": 5
}
