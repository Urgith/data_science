{
 "cells": [
  {
   "cell_type": "code",
   "execution_count": 115,
   "metadata": {},
   "outputs": [],
   "source": [
    "from bs4 import BeautifulSoup\n",
    "import pandas as pd\n"
   ]
  },
  {
   "cell_type": "code",
   "execution_count": 116,
   "metadata": {},
   "outputs": [],
   "source": [
    "with open('wikipedia_polska.txt', 'r', encoding='utf8') as file:\n",
    "    text = file.read()\n"
   ]
  },
  {
   "cell_type": "code",
   "execution_count": 117,
   "metadata": {},
   "outputs": [],
   "source": [
    "soup = BeautifulSoup(text, 'html.parser')\n"
   ]
  },
  {
   "cell_type": "code",
   "execution_count": 118,
   "metadata": {},
   "outputs": [
    {
     "data": {
      "text/plain": [
       "['Nr', 'Miasto', 'Liczba mieszkańców', 'Województwo']"
      ]
     },
     "execution_count": 118,
     "metadata": {},
     "output_type": "execute_result"
    }
   ],
   "source": [
    "table = soup.find_all('table', class_='wikitable sortable jquery-tablesorter')\n",
    "\n",
    "names = []\n",
    "for element in table[0].find('thead').find('tr').find_all('th'):\n",
    "    name = element.text.strip()\n",
    "\n",
    "    if name:\n",
    "        names.append(name)\n",
    "    else:\n",
    "        names.append('Nr')\n",
    "\n",
    "names\n"
   ]
  },
  {
   "cell_type": "code",
   "execution_count": 119,
   "metadata": {},
   "outputs": [],
   "source": [
    "data = []\n",
    "for row in table[0].find('tbody').find_all('tr'):\n",
    "    found = row.find_all('td')\n",
    "\n",
    "    data.append([])\n",
    "    for i, element in enumerate(found):\n",
    "        text = element.text.strip()\n",
    "\n",
    "        if i == 2:\n",
    "            text = text.replace(' ', '')\n",
    "\n",
    "        data[-1].append(text)\n"
   ]
  },
  {
   "cell_type": "code",
   "execution_count": 120,
   "metadata": {},
   "outputs": [],
   "source": [
    "df = pd.DataFrame(data, columns=names)\n",
    "df['Nr'] = df['Nr'].astype(int)\n",
    "df['Liczba mieszkańców'] = df['Liczba mieszkańców'].astype(int)\n",
    "df.set_index('Nr', inplace=True)\n",
    "\n",
    "df\n"
   ]
  },
  {
   "cell_type": "code",
   "execution_count": 121,
   "metadata": {},
   "outputs": [],
   "source": [
    "df.to_excel('wikipedia_polska.xlsx')\n"
   ]
  }
 ],
 "metadata": {
  "kernelspec": {
   "display_name": "Python 3.10.4 64-bit",
   "language": "python",
   "name": "python3"
  },
  "language_info": {
   "codemirror_mode": {
    "name": "ipython",
    "version": 3
   },
   "file_extension": ".py",
   "mimetype": "text/x-python",
   "name": "python",
   "nbconvert_exporter": "python",
   "pygments_lexer": "ipython3",
   "version": "3.10.4"
  },
  "orig_nbformat": 4,
  "vscode": {
   "interpreter": {
    "hash": "229cdfb8eedfa4964725b7eb0da8d7a63b25d97a6ab808f09bd6b506844c0629"
   }
  }
 },
 "nbformat": 4,
 "nbformat_minor": 2
}
