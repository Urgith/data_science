{
 "cells": [
  {
   "cell_type": "code",
   "execution_count": 1,
   "id": "a9792300",
   "metadata": {},
   "outputs": [],
   "source": [
    "import requests\n"
   ]
  },
  {
   "cell_type": "code",
   "execution_count": 2,
   "id": "94d56a7d",
   "metadata": {},
   "outputs": [],
   "source": [
    "r = requests.get('https://companiesmarketcap.com/')\n",
    "text = r.text\n"
   ]
  },
  {
   "cell_type": "code",
   "execution_count": 3,
   "id": "3ee48b1b",
   "metadata": {},
   "outputs": [],
   "source": [
    "with open('data_capitalization.txt', 'w', encoding='utf-8') as file:\n",
    "    file.write(text)\n"
   ]
  }
 ],
 "metadata": {
  "kernelspec": {
   "display_name": "Python 3",
   "language": "python",
   "name": "python3"
  },
  "language_info": {
   "codemirror_mode": {
    "name": "ipython",
    "version": 3
   },
   "file_extension": ".py",
   "mimetype": "text/x-python",
   "name": "python",
   "nbconvert_exporter": "python",
   "pygments_lexer": "ipython3",
   "version": "3.10.4"
  }
 },
 "nbformat": 4,
 "nbformat_minor": 5
}
