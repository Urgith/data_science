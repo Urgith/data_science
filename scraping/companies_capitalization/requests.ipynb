{
 "cells": [
  {
   "cell_type": "code",
   "execution_count": 1,
   "id": "a9792300",
   "metadata": {},
   "outputs": [],
   "source": [
    "import requests\n",
    "import time\n"
   ]
  },
  {
   "cell_type": "code",
   "execution_count": 2,
   "id": "94d56a7d",
   "metadata": {},
   "outputs": [],
   "source": [
    "# range(1, 107)\n",
    "for i in range(1):\n",
    "    time.sleep(1)\n",
    "\n",
    "    r = requests.get(f'https://companiesmarketcap.com/page/{i}/')\n",
    "    text = r.text\n",
    "\n",
    "    with open(f'data/data_capitalization{i}.txt', 'w', encoding='utf-8') as file:\n",
    "        file.write(text)\n"
   ]
  }
 ],
 "metadata": {
  "kernelspec": {
   "display_name": "Python 3",
   "language": "python",
   "name": "python3"
  },
  "language_info": {
   "codemirror_mode": {
    "name": "ipython",
    "version": 3
   },
   "file_extension": ".py",
   "mimetype": "text/x-python",
   "name": "python",
   "nbconvert_exporter": "python",
   "pygments_lexer": "ipython3",
   "version": "3.10.4"
  }
 },
 "nbformat": 4,
 "nbformat_minor": 5
}
