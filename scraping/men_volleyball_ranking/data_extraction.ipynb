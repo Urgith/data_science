{
 "cells": [
  {
   "cell_type": "code",
   "execution_count": 1,
   "id": "82164ed5",
   "metadata": {},
   "outputs": [],
   "source": [
    "from bs4 import BeautifulSoup\n",
    "import pandas as pd\n"
   ]
  },
  {
   "cell_type": "code",
   "execution_count": 2,
   "id": "edd84c4d",
   "metadata": {},
   "outputs": [],
   "source": [
    "with open('volleyball_ranking.txt', 'r', encoding='utf-8') as file:\n",
    "    text = file.read()\n"
   ]
  },
  {
   "cell_type": "code",
   "execution_count": 3,
   "id": "1a226938",
   "metadata": {},
   "outputs": [],
   "source": [
    "soup = BeautifulSoup(text, 'html.parser')\n",
    "table = soup.find_all('table', {'aria-label': 'Volleyball World Ranking'})\n"
   ]
  },
  {
   "cell_type": "code",
   "execution_count": 4,
   "id": "6aec7365",
   "metadata": {},
   "outputs": [],
   "source": [
    "rank = []\n",
    "team = []\n",
    "score = []\n",
    "\n",
    "for element in table:\n",
    "    rows = element.find_all('tbody')\n",
    "\n",
    "    for row in rows:\n",
    "        data_rank = row.attrs.get('data-rank')\n",
    "        data_team = row.attrs.get('data-teamname')\n",
    "        data_score = row.attrs.get('data-points')\n",
    "\n",
    "        if data_rank:\n",
    "            rank.append(data_rank)\n",
    "\n",
    "        if data_team:\n",
    "            team.append(data_team)\n",
    "\n",
    "        if data_score:\n",
    "            score.append(data_score)\n"
   ]
  },
  {
   "cell_type": "code",
   "execution_count": 5,
   "id": "43549062",
   "metadata": {},
   "outputs": [],
   "source": [
    "df = pd.DataFrame([rank, team, score]).transpose()\n",
    "df.columns = ['Rank', 'Team', 'Score']\n"
   ]
  },
  {
   "cell_type": "code",
   "execution_count": 6,
   "id": "9da59f32",
   "metadata": {},
   "outputs": [],
   "source": [
    "df.Rank = df.Rank.astype(int)\n",
    "df.Score = df.Score.astype(float)\n"
   ]
  },
  {
   "cell_type": "code",
   "execution_count": 7,
   "id": "7a1351a7",
   "metadata": {},
   "outputs": [],
   "source": [
    "df.to_excel('data.xlsx', index=False)\n"
   ]
  }
 ],
 "metadata": {
  "kernelspec": {
   "display_name": "Python 3",
   "language": "python",
   "name": "python3"
  },
  "language_info": {
   "codemirror_mode": {
    "name": "ipython",
    "version": 3
   },
   "file_extension": ".py",
   "mimetype": "text/x-python",
   "name": "python",
   "nbconvert_exporter": "python",
   "pygments_lexer": "ipython3",
   "version": "3.10.4"
  }
 },
 "nbformat": 4,
 "nbformat_minor": 5
}
