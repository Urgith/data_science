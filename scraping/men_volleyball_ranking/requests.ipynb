{
 "cells": [
  {
   "cell_type": "code",
   "execution_count": 7,
   "id": "eeeada56",
   "metadata": {},
   "outputs": [],
   "source": [
    "import requests\n"
   ]
  },
  {
   "cell_type": "code",
   "execution_count": 8,
   "id": "659cbf6a",
   "metadata": {},
   "outputs": [],
   "source": [
    "r = requests.get('https://en.volleyballworld.com/volleyball/world-ranking/men')\n",
    "text = r.text\n"
   ]
  },
  {
   "cell_type": "code",
   "execution_count": 9,
   "id": "9ccde648",
   "metadata": {},
   "outputs": [],
   "source": [
    "with open('volleyball_ranking.txt', 'w', encoding='utf-8') as file:\n",
    "    file.write(text)\n"
   ]
  }
 ],
 "metadata": {
  "kernelspec": {
   "display_name": "Python 3",
   "language": "python",
   "name": "python3"
  },
  "language_info": {
   "codemirror_mode": {
    "name": "ipython",
    "version": 3
   },
   "file_extension": ".py",
   "mimetype": "text/x-python",
   "name": "python",
   "nbconvert_exporter": "python",
   "pygments_lexer": "ipython3",
   "version": "3.10.4"
  }
 },
 "nbformat": 4,
 "nbformat_minor": 5
}
