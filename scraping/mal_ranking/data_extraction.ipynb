{
 "cells": [
  {
   "cell_type": "code",
   "execution_count": 66,
   "id": "73a1025a",
   "metadata": {},
   "outputs": [],
   "source": [
    "from bs4 import BeautifulSoup\n",
    "import pandas as pd\n",
    "import numpy as np\n"
   ]
  },
  {
   "cell_type": "code",
   "execution_count": 54,
   "id": "7b2f870b",
   "metadata": {},
   "outputs": [],
   "source": [
    "ranking = []\n",
    "name = []\n",
    "typ = []\n",
    "episodes = []\n",
    "start = []\n",
    "end = []\n",
    "members = []\n",
    "score = []\n",
    "\n",
    "for file_name in [f'data/mal_ranking{number}.txt' for number in range(0, 28615, 50)]:\n",
    "    with open(file_name, encoding='latin-1') as file:\n",
    "        text = file.read()\n",
    "\n",
    "    soup = BeautifulSoup(text, 'html.parser')\n",
    "    table = soup.find('table')\n",
    "    rows = table.find_all('tr', {'class': 'ranking-list'})\n",
    "\n",
    "    for row in rows:\n",
    "        ranking.append(row.find('span').text)\n",
    "        name.append(row.find('div', {'class': 'di-ib clearfix'}).text)\n",
    "\n",
    "        type_eps_time_members = row.find('div', {'class': 'information di-ib mt4'})\n",
    "        multidata = type_eps_time_members.text\n",
    "        multidata = multidata.strip().split('\\n')\n",
    "        multidata = [data.strip() for data in multidata]\n",
    "\n",
    "        if 'TV Special' not in multidata[0]:\n",
    "            typ.append(multidata[0].split(' ')[0])\n",
    "            episodes.append(multidata[0].split(' ')[1][1:])\n",
    "\n",
    "        else:\n",
    "            typ.append(multidata[0].split(' ')[0] + ' ' + multidata[0].split(' ')[1])\n",
    "            episodes.append(multidata[0].split(' ')[2][1:])\n",
    "\n",
    "        start.append(multidata[1].split('-')[0])\n",
    "        end.append(multidata[1].split('-')[1][1:])\n",
    "\n",
    "        members.append(multidata[2].split(' ')[0].replace(',', ''))\n",
    "        score.append(row.find('div', {'class': 'js-top-ranking-score-col di-ib al'}).text)\n"
   ]
  },
  {
   "cell_type": "code",
   "execution_count": 84,
   "id": "a6aade20",
   "metadata": {},
   "outputs": [
    {
     "name": "stderr",
     "output_type": "stream",
     "text": [
      "C:\\Users\\acer\\AppData\\Local\\Temp\\ipykernel_940\\2539121469.py:6: FutureWarning: ChainedAssignmentError: behaviour will change in pandas 3.0!\n",
      "You are setting values through chained assignment. Currently this works in certain cases, but when using Copy-on-Write (which will become the default behaviour in pandas 3.0) this will never work to update the original DataFrame or Series, because the intermediate object on which we are setting values will behave as a copy.\n",
      "A typical example is when you are setting values in a column of a DataFrame, like:\n",
      "\n",
      "df[\"col\"][row_indexer] = value\n",
      "\n",
      "Use `df.loc[row_indexer, \"col\"] = values` instead, to perform the assignment in a single step and ensure this keeps updating the original `df`.\n",
      "\n",
      "See the caveats in the documentation: https://pandas.pydata.org/pandas-docs/stable/user_guide/indexing.html#returning-a-view-versus-a-copy\n",
      "\n",
      "  df.Episodes[df.Episodes == '?'] = -1\n",
      "C:\\Users\\acer\\AppData\\Local\\Temp\\ipykernel_940\\2539121469.py:6: SettingWithCopyWarning: \n",
      "A value is trying to be set on a copy of a slice from a DataFrame\n",
      "\n",
      "See the caveats in the documentation: https://pandas.pydata.org/pandas-docs/stable/user_guide/indexing.html#returning-a-view-versus-a-copy\n",
      "  df.Episodes[df.Episodes == '?'] = -1\n",
      "C:\\Users\\acer\\AppData\\Local\\Temp\\ipykernel_940\\2539121469.py:8: UserWarning: Could not infer format, so each element will be parsed individually, falling back to `dateutil`. To ensure parsing is consistent and as-expected, please specify a format.\n",
      "  df.Start = pd.to_datetime(df.Start)\n",
      "C:\\Users\\acer\\AppData\\Local\\Temp\\ipykernel_940\\2539121469.py:9: UserWarning: Could not infer format, so each element will be parsed individually, falling back to `dateutil`. To ensure parsing is consistent and as-expected, please specify a format.\n",
      "  df.End = pd.to_datetime(df.End)\n",
      "C:\\Users\\acer\\AppData\\Local\\Temp\\ipykernel_940\\2539121469.py:11: FutureWarning: ChainedAssignmentError: behaviour will change in pandas 3.0!\n",
      "You are setting values through chained assignment. Currently this works in certain cases, but when using Copy-on-Write (which will become the default behaviour in pandas 3.0) this will never work to update the original DataFrame or Series, because the intermediate object on which we are setting values will behave as a copy.\n",
      "A typical example is when you are setting values in a column of a DataFrame, like:\n",
      "\n",
      "df[\"col\"][row_indexer] = value\n",
      "\n",
      "Use `df.loc[row_indexer, \"col\"] = values` instead, to perform the assignment in a single step and ensure this keeps updating the original `df`.\n",
      "\n",
      "See the caveats in the documentation: https://pandas.pydata.org/pandas-docs/stable/user_guide/indexing.html#returning-a-view-versus-a-copy\n",
      "\n",
      "  df.Score[df.Score == 'N/A'] = -1.0\n",
      "C:\\Users\\acer\\AppData\\Local\\Temp\\ipykernel_940\\2539121469.py:11: SettingWithCopyWarning: \n",
      "A value is trying to be set on a copy of a slice from a DataFrame\n",
      "\n",
      "See the caveats in the documentation: https://pandas.pydata.org/pandas-docs/stable/user_guide/indexing.html#returning-a-view-versus-a-copy\n",
      "  df.Score[df.Score == 'N/A'] = -1.0\n"
     ]
    }
   ],
   "source": [
    "df = pd.DataFrame([ranking, name, typ, episodes, start, end, members, score]).transpose()\n",
    "df.columns = ['Ranking', 'Name', 'Type', 'Episodes', 'Start', 'End', 'Members', 'Score']\n",
    "\n",
    "df.Ranking = df.Ranking.astype(int)\n",
    "df.Type = df.Type.astype('category')\n",
    "df.Episodes[df.Episodes == '?'] = -1\n",
    "df.Episodes = df.Episodes.astype(int)\n",
    "df.Start = pd.to_datetime(df.Start)\n",
    "df.End = pd.to_datetime(df.End)\n",
    "df.Members = df.Members.astype(int)\n",
    "df.Score[df.Score == 'N/A'] = -1.0\n",
    "df.Score = df.Score.astype(float)\n"
   ]
  },
  {
   "cell_type": "code",
   "execution_count": 85,
   "id": "7e558621",
   "metadata": {},
   "outputs": [
    {
     "data": {
      "text/plain": [
       "Ranking              int32\n",
       "Name                object\n",
       "Type              category\n",
       "Episodes             int32\n",
       "Start       datetime64[ns]\n",
       "End         datetime64[ns]\n",
       "Members              int32\n",
       "Score              float64\n",
       "dtype: object"
      ]
     },
     "execution_count": 85,
     "metadata": {},
     "output_type": "execute_result"
    }
   ],
   "source": [
    "df.dtypes\n"
   ]
  },
  {
   "cell_type": "code",
   "execution_count": 86,
   "id": "7f907a4a",
   "metadata": {},
   "outputs": [],
   "source": [
    "df.to_excel('data.xlsx', index=False)\n"
   ]
  }
 ],
 "metadata": {
  "kernelspec": {
   "display_name": "Python 3",
   "language": "python",
   "name": "python3"
  },
  "language_info": {
   "codemirror_mode": {
    "name": "ipython",
    "version": 3
   },
   "file_extension": ".py",
   "mimetype": "text/x-python",
   "name": "python",
   "nbconvert_exporter": "python",
   "pygments_lexer": "ipython3",
   "version": "3.10.4"
  }
 },
 "nbformat": 4,
 "nbformat_minor": 5
}
