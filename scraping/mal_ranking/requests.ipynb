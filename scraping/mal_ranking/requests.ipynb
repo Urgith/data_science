{
 "cells": [
  {
   "cell_type": "code",
   "execution_count": 1,
   "id": "93c27b4b",
   "metadata": {},
   "outputs": [],
   "source": [
    "import requests\n",
    "import time\n"
   ]
  },
  {
   "cell_type": "code",
   "execution_count": 2,
   "id": "17d442da",
   "metadata": {},
   "outputs": [],
   "source": [
    "r = requests.get('https://myanimelist.net/topanime.php?type=bypopularity')\n",
    "text = r.text\n",
    "\n",
    "file = open('data/mal_ranking0.txt', 'w')\n",
    "file.write(text)\n",
    "file.close()\n"
   ]
  },
  {
   "cell_type": "code",
   "execution_count": null,
   "id": "618cb862",
   "metadata": {},
   "outputs": [],
   "source": [
    "for number in range(50, 28615, 50):\n",
    "    time.sleep(1)\n",
    "    r = requests.get(f'https://myanimelist.net/topanime.php?type=bypopularity&limit={number}')\n",
    "    text = r.text\n",
    "\n",
    "    file = open(f'data/mal_ranking{number}.txt', 'w', encoding='utf-8')\n",
    "    file.write(text)\n",
    "    file.close()\n"
   ]
  }
 ],
 "metadata": {
  "kernelspec": {
   "display_name": "Python 3",
   "language": "python",
   "name": "python3"
  },
  "language_info": {
   "codemirror_mode": {
    "name": "ipython",
    "version": 3
   },
   "file_extension": ".py",
   "mimetype": "text/x-python",
   "name": "python",
   "nbconvert_exporter": "python",
   "pygments_lexer": "ipython3",
   "version": "3.10.4"
  }
 },
 "nbformat": 4,
 "nbformat_minor": 5
}
