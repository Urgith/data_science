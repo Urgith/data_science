{
 "cells": [
  {
   "cell_type": "code",
   "execution_count": 2,
   "metadata": {},
   "outputs": [],
   "source": [
    "# ERROR\n",
    "#return 'DataCamp'\n"
   ]
  },
  {
   "cell_type": "code",
   "execution_count": 4,
   "metadata": {},
   "outputs": [],
   "source": [
    "# ERROR\n",
    "#def fun():\n",
    "#return 'DataCamp'\n"
   ]
  },
  {
   "cell_type": "code",
   "execution_count": 5,
   "metadata": {},
   "outputs": [],
   "source": [
    "# ERROR\n",
    "#test = 1 / 0\n"
   ]
  },
  {
   "cell_type": "code",
   "execution_count": 6,
   "metadata": {},
   "outputs": [],
   "source": [
    "# ERROR\n",
    "#y = test\n"
   ]
  },
  {
   "cell_type": "code",
   "execution_count": 7,
   "metadata": {},
   "outputs": [
    {
     "name": "stdout",
     "output_type": "stream",
     "text": [
      "An exception has occurred!\n"
     ]
    }
   ],
   "source": [
    "try:\n",
    "    print(x)\n",
    "except:\n",
    "    print('An exception has occurred!')\n"
   ]
  },
  {
   "cell_type": "code",
   "execution_count": 8,
   "metadata": {},
   "outputs": [
    {
     "name": "stdout",
     "output_type": "stream",
     "text": [
      "You cannot divide a value with zero\n"
     ]
    }
   ],
   "source": [
    "try:\n",
    "    print(1 / 0)\n",
    "except ZeroDivisionError:\n",
    "    print('You cannot divide a value with zero')\n",
    "except:\n",
    "    print('Something else went wrong')\n"
   ]
  },
  {
   "cell_type": "code",
   "execution_count": 9,
   "metadata": {},
   "outputs": [
    {
     "name": "stdout",
     "output_type": "stream",
     "text": [
      "[Errno 2] No such file or directory: 'data.csv'\n",
      "Explanation: We cannot load the 'data.csv' file\n"
     ]
    }
   ],
   "source": [
    "try:\n",
    "    with open('data.csv') as file:\n",
    "        read_data = file.read()\n",
    "\n",
    "except FileNotFoundError as fnf_error:\n",
    "    print(fnf_error)\n",
    "    print(\"Explanation: We cannot load the 'data.csv' file\")\n"
   ]
  },
  {
   "cell_type": "code",
   "execution_count": 10,
   "metadata": {},
   "outputs": [
    {
     "name": "stdout",
     "output_type": "stream",
     "text": [
      "Your answer is 0.3333333333333333\n"
     ]
    }
   ],
   "source": [
    "try:\n",
    "    result = 1 / 3\n",
    "except ZeroDivisionError as err:\n",
    "    print(err)\n",
    "else:\n",
    "    print(f'Your answer is {result}')\n"
   ]
  },
  {
   "cell_type": "code",
   "execution_count": 11,
   "metadata": {},
   "outputs": [],
   "source": [
    "x = [5, 8, 9, 13]\n",
    "\n",
    "def find_nth_value(x, n):\n",
    "    try:\n",
    "        result = x[n]\n",
    "\n",
    "    except IndexError as err:\n",
    "        print(err)\n",
    "\n",
    "    else:\n",
    "        print('Your answer is ', result)\n"
   ]
  },
  {
   "cell_type": "code",
   "execution_count": 12,
   "metadata": {},
   "outputs": [
    {
     "name": "stdout",
     "output_type": "stream",
     "text": [
      "list index out of range\n"
     ]
    }
   ],
   "source": [
    "find_nth_value(x, 6)\n"
   ]
  },
  {
   "cell_type": "code",
   "execution_count": 13,
   "metadata": {},
   "outputs": [
    {
     "name": "stdout",
     "output_type": "stream",
     "text": [
      "Your answer is  9\n"
     ]
    }
   ],
   "source": [
    "find_nth_value(x, 2)\n"
   ]
  },
  {
   "cell_type": "code",
   "execution_count": 14,
   "metadata": {},
   "outputs": [],
   "source": [
    "def divide(x, y):\n",
    "\n",
    "    try:\n",
    "        result = x / y\n",
    "\n",
    "    except ZeroDivisionError:\n",
    "        print(\"Please change 'y' argument to non-zero value\")\n",
    "\n",
    "    except:\n",
    "        print('Something went wrong')\n",
    "\n",
    "    else:\n",
    "        print(f'Your answer is {result}')\n",
    "\n",
    "    finally:\n",
    "        print('\\033[92m Code by DataCamp\\033[00m')\n"
   ]
  },
  {
   "cell_type": "code",
   "execution_count": 15,
   "metadata": {},
   "outputs": [
    {
     "name": "stdout",
     "output_type": "stream",
     "text": [
      "Please change 'y' argument to non-zero value\n",
      "\u001b[92m Code by DataCamp\u001b[00m\n"
     ]
    }
   ],
   "source": [
    "divide(1, 0)\n"
   ]
  },
  {
   "cell_type": "code",
   "execution_count": 16,
   "metadata": {},
   "outputs": [
    {
     "name": "stdout",
     "output_type": "stream",
     "text": [
      "Your answer is 0.75\n",
      "\u001b[92m Code by DataCamp\u001b[00m\n"
     ]
    }
   ],
   "source": [
    "divide(3, 4)\n"
   ]
  },
  {
   "cell_type": "code",
   "execution_count": 17,
   "metadata": {},
   "outputs": [
    {
     "name": "stdout",
     "output_type": "stream",
     "text": [
      "Something went wrong\n",
      "\u001b[92m Code by DataCamp\u001b[00m\n"
     ]
    }
   ],
   "source": [
    "divide(1, 'g')\n"
   ]
  },
  {
   "cell_type": "code",
   "execution_count": 20,
   "metadata": {},
   "outputs": [],
   "source": [
    "def divide(x, y):\n",
    "\n",
    "    try:\n",
    "        value = 50\n",
    "        x.append(value)\n",
    "\n",
    "    except AttributeError as atr_err:\n",
    "        print(atr_err)\n",
    "\n",
    "    else:\n",
    "        try:\n",
    "            result = [i / y for i in x]\n",
    "            print(result)\n",
    "\n",
    "        except ZeroDivisionError:\n",
    "            print(\"Please change 'y' argument to non-zero value\")\n",
    "\n",
    "    finally:\n",
    "        print('\\033[92m Code by DataCamp\\033[00m')\n"
   ]
  },
  {
   "cell_type": "code",
   "execution_count": 21,
   "metadata": {},
   "outputs": [
    {
     "name": "stdout",
     "output_type": "stream",
     "text": [
      "[13.333333333333334, 21.666666666666668, 23.333333333333332, 29.0, 16.666666666666668]\n",
      "\u001b[92m Code by DataCamp\u001b[00m\n"
     ]
    }
   ],
   "source": [
    "x = [40, 65, 70, 87]\n",
    "divide(x, 3)\n"
   ]
  },
  {
   "cell_type": "code",
   "execution_count": 22,
   "metadata": {},
   "outputs": [
    {
     "name": "stdout",
     "output_type": "stream",
     "text": [
      "'int' object has no attribute 'append'\n",
      "\u001b[92m Code by DataCamp\u001b[00m\n"
     ]
    }
   ],
   "source": [
    "divide(4, 3)\n"
   ]
  },
  {
   "cell_type": "code",
   "execution_count": 23,
   "metadata": {},
   "outputs": [
    {
     "name": "stdout",
     "output_type": "stream",
     "text": [
      "Please change 'y' argument to non-zero value\n",
      "\u001b[92m Code by DataCamp\u001b[00m\n"
     ]
    }
   ],
   "source": [
    "divide(x, 0)\n"
   ]
  },
  {
   "cell_type": "code",
   "execution_count": 29,
   "metadata": {},
   "outputs": [],
   "source": [
    "def file_editor(path, text):\n",
    "    try:\n",
    "        data = open(path, 'a')\n",
    "\n",
    "        try:\n",
    "            data.write(text)\n",
    "\n",
    "        except:\n",
    "            print(\"Unable to write the data. Please add an append: 'a' or write: 'w' parameter to the open() function.\")\n",
    "\n",
    "        finally:\n",
    "            data.close()\n",
    "\n",
    "    except:\n",
    "        print(f'{path} file is not found!!')\n"
   ]
  },
  {
   "cell_type": "code",
   "execution_count": 27,
   "metadata": {},
   "outputs": [
    {
     "name": "stdout",
     "output_type": "stream",
     "text": [
      "data.txt file is not found!!\n"
     ]
    }
   ],
   "source": [
    "path = 'data.txt'\n",
    "text = 'DataCamp Workspace: Share your data analysis in a cloud-based environment--no installation required'\n",
    "\n",
    "file_editor(path, text)\n"
   ]
  },
  {
   "cell_type": "code",
   "execution_count": 28,
   "metadata": {},
   "outputs": [
    {
     "name": "stdout",
     "output_type": "stream",
     "text": [
      "Unable to write the data. Please add an append: 'a' or write: 'w' parameter to the open() function.\n"
     ]
    }
   ],
   "source": [
    "file_editor(path, text)\n"
   ]
  },
  {
   "cell_type": "code",
   "execution_count": 30,
   "metadata": {},
   "outputs": [],
   "source": [
    "file_editor(path, text)\n"
   ]
  },
  {
   "cell_type": "code",
   "execution_count": 32,
   "metadata": {},
   "outputs": [],
   "source": [
    "# ERROR\n",
    "value = 2000\n",
    "#if value > 1000:\n",
    "#    raise ValueError('Please add a value lower than 1,000')\n",
    "#else:\n",
    "#    print('Congratulations! You are the winner!!')\n"
   ]
  },
  {
   "cell_type": "code",
   "execution_count": 34,
   "metadata": {},
   "outputs": [],
   "source": [
    "# ERROR\n",
    "#if value > 1000:\n",
    "#    raise Exception('Please add a value lower than 1,000')\n",
    "#else:\n",
    "#    print('Congratulations! You are the winner!!')\n"
   ]
  },
  {
   "cell_type": "code",
   "execution_count": 35,
   "metadata": {},
   "outputs": [
    {
     "name": "stdout",
     "output_type": "stream",
     "text": [
      "Please add a value lower than 1,000\n"
     ]
    }
   ],
   "source": [
    "value = 2000\n",
    "\n",
    "try:\n",
    "    if value > 1000:\n",
    "        raise ValueError('Please add a value lower than 1,000')\n",
    "    else:\n",
    "        print('Congratulations! You are the winner!!')\n",
    "\n",
    "except ValueError as e:\n",
    "    print(e)\n"
   ]
  }
 ],
 "metadata": {
  "kernelspec": {
   "display_name": "Python 3",
   "language": "python",
   "name": "python3"
  },
  "language_info": {
   "codemirror_mode": {
    "name": "ipython",
    "version": 3
   },
   "file_extension": ".py",
   "mimetype": "text/x-python",
   "name": "python",
   "nbconvert_exporter": "python",
   "pygments_lexer": "ipython3",
   "version": "3.10.4"
  },
  "orig_nbformat": 4
 },
 "nbformat": 4,
 "nbformat_minor": 2
}
