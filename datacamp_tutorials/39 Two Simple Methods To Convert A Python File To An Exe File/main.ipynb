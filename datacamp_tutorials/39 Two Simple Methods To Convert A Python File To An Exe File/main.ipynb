{
 "cells": [
  {
   "cell_type": "code",
   "execution_count": 1,
   "metadata": {},
   "outputs": [],
   "source": [
    "import pandas as pd\n",
    "from pandas.api.types import CategoricalDtype\n"
   ]
  },
  {
   "cell_type": "code",
   "execution_count": 3,
   "metadata": {},
   "outputs": [],
   "source": [
    "def perform_validation(filename:str):\n",
    "\n",
    "    path_to_data = '../..'\n",
    "    data = pd.read_csv(f'{path_to_data}{filename}')\n",
    "\n",
    "    neighborhood_group_to_cat = CategoricalDtype(\n",
    "        categories=['Manhattan', 'Brooklyn', 'Queens', 'Bronx', 'Staten Island'],\n",
    "        ordered=False\n",
    "    )\n",
    "\n",
    "    data['neighbourhood_group'] = data['neighbourhood_group'].astype(neighborhood_group_to_cat)\n",
    "\n",
    "    room_type_to_cat = CategoricalDtype(\n",
    "        categories=['Entire home/apt', 'Pricate room', 'Shared room'],\n",
    "        ordered=False\n",
    "    )\n",
    "\n",
    "    data['room_type'] = data['room_type'].astype(room_type_to_cat)\n",
    "    data['last_review'] = pd.to_datetime(data['last_review'])\n",
    "\n",
    "    assert data['minimum_nights'].min() >= 1\n",
    "    assert data['number_f_reviews'].min() >= 0\n",
    "    assert data['reviews_per_month'].min() >= 0.00\n",
    "    assert data['calculated_host_listings_count'].min() >= 1\n",
    "    assert data['availability_365'].min() >= 0\n",
    "\n",
    "    data.to_csv('validated_ab_nyc_2019.csv', index=False)\n"
   ]
  },
  {
   "cell_type": "code",
   "execution_count": null,
   "metadata": {},
   "outputs": [],
   "source": [
    "if __name__ == '__main__':\n",
    "    filename = input('Enter filename:')\n",
    "\n",
    "    if not filename.isalpha():\n",
    "        filename = str(filename)\n",
    "\n",
    "    perform_validation(filename)\n"
   ]
  }
 ],
 "metadata": {
  "kernelspec": {
   "display_name": "Python 3",
   "language": "python",
   "name": "python3"
  },
  "language_info": {
   "codemirror_mode": {
    "name": "ipython",
    "version": 3
   },
   "file_extension": ".py",
   "mimetype": "text/x-python",
   "name": "python",
   "nbconvert_exporter": "python",
   "pygments_lexer": "ipython3",
   "version": "3.10.4"
  },
  "orig_nbformat": 4
 },
 "nbformat": 4,
 "nbformat_minor": 2
}
