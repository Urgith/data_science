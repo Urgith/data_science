{
 "cells": [
  {
   "cell_type": "code",
   "execution_count": 4,
   "metadata": {},
   "outputs": [],
   "source": [
    "import streamlit as st\n"
   ]
  },
  {
   "cell_type": "code",
   "execution_count": 5,
   "metadata": {},
   "outputs": [],
   "source": [
    "st.write(\"Hello, let's learn how to build a streamlit app together\")\n"
   ]
  },
  {
   "cell_type": "code",
   "execution_count": 7,
   "metadata": {},
   "outputs": [
    {
     "data": {
      "text/plain": [
       "DeltaGenerator()"
      ]
     },
     "execution_count": 7,
     "metadata": {},
     "output_type": "execute_result"
    }
   ],
   "source": [
    "st.title('this is the app title')\n",
    "st.header('this is the header')\n",
    "st.markdown('this is the markdown')\n",
    "st.subheader('this is subheader')\n",
    "st.caption('this is the caption')\n",
    "st.code('x=2021')\n",
    "st.latex(r''' a+a r^1+a r^2+a r3 ''')\n"
   ]
  },
  {
   "cell_type": "code",
   "execution_count": 9,
   "metadata": {},
   "outputs": [],
   "source": [
    "# ERROR\n",
    "#st.image('kid.jpg')\n",
    "#st.audio('Audio.mp3')\n",
    "#st.video('video.mp4')\n"
   ]
  },
  {
   "cell_type": "code",
   "execution_count": 10,
   "metadata": {},
   "outputs": [
    {
     "name": "stderr",
     "output_type": "stream",
     "text": [
      "2023-09-27 12:39:05.898 Session state does not function when running a script without `streamlit run`\n"
     ]
    },
    {
     "data": {
      "text/plain": [
       "0"
      ]
     },
     "execution_count": 10,
     "metadata": {},
     "output_type": "execute_result"
    }
   ],
   "source": [
    "st.checkbox('yes')\n",
    "st.button('Click')\n",
    "st.radio('Pick your gender', ['Male', 'Female'])\n",
    "st.selectbox('Pick your gender', ['Male', 'Female'])\n",
    "st.multiselect('choose a planet', ['Jupiter', 'Mars', 'Neptune'])\n",
    "st.select_slider('Pick a mark', ['Bad', 'Good', 'Ecellent'])\n",
    "st.slider('Pick a number', 0)\n"
   ]
  },
  {
   "cell_type": "code",
   "execution_count": 11,
   "metadata": {},
   "outputs": [
    {
     "data": {
      "text/plain": [
       "'#000000'"
      ]
     },
     "execution_count": 11,
     "metadata": {},
     "output_type": "execute_result"
    }
   ],
   "source": [
    "st.number_input('Pick a number', 0, 10)\n",
    "st.text_input('Email address')\n",
    "st.date_input('Travelling date')\n",
    "st.time_input('School time')\n",
    "st.text_area('Description')\n",
    "st.file_uploader('Upload a photo')\n",
    "st.color_picker('Choose your favorite color')\n"
   ]
  },
  {
   "cell_type": "code",
   "execution_count": 12,
   "metadata": {},
   "outputs": [],
   "source": [
    "import time\n",
    "\n",
    "st.balloons()\n",
    "st.progress(10)\n",
    "\n",
    "with st.spinner('Wait for it...'):\n",
    "    time.sleep(10)\n"
   ]
  },
  {
   "cell_type": "code",
   "execution_count": 13,
   "metadata": {},
   "outputs": [
    {
     "data": {
      "text/plain": [
       "DeltaGenerator()"
      ]
     },
     "execution_count": 13,
     "metadata": {},
     "output_type": "execute_result"
    }
   ],
   "source": [
    "st.success('You dit it!')\n",
    "st.error('Error')\n",
    "st.warning('Warning')\n",
    "st.info(\"It's easy to build a streamlit app\")\n",
    "st.exception('RuntimeError exception')\n"
   ]
  },
  {
   "cell_type": "code",
   "execution_count": 14,
   "metadata": {},
   "outputs": [
    {
     "data": {
      "text/plain": [
       "'Male'"
      ]
     },
     "execution_count": 14,
     "metadata": {},
     "output_type": "execute_result"
    }
   ],
   "source": [
    "st.sidebar.title('This is written inside the sidebar')\n",
    "st.sidebar.button('Click')\n",
    "st.sidebar.radio('Pick your gender', ['Male', 'Female'])\n"
   ]
  },
  {
   "cell_type": "code",
   "execution_count": 15,
   "metadata": {},
   "outputs": [],
   "source": [
    "container = st.container()\n",
    "\n",
    "container.write('This is written isnide the container')\n",
    "st.write('This is written outside the container')\n"
   ]
  },
  {
   "cell_type": "code",
   "execution_count": 23,
   "metadata": {},
   "outputs": [],
   "source": [
    "import streamlit as st\n",
    "import matplotlib.pyplot as plt\n",
    "import numpy as np\n"
   ]
  },
  {
   "cell_type": "code",
   "execution_count": 26,
   "metadata": {},
   "outputs": [
    {
     "data": {
      "image/png": "[encoded data removed]",
      "text/plain": [
       "<Figure size 640x480 with 1 Axes>"
      ]
     },
     "metadata": {},
     "output_type": "display_data"
    }
   ],
   "source": [
    "rand = np.random.normal(1, 2, size=20)\n",
    "fig, ax = plt.subplots()\n",
    "\n",
    "ax.hist(rand, bins=15)\n",
    "st.pyplot(fig)\n",
    "\n",
    "plt.show()\n"
   ]
  },
  {
   "cell_type": "code",
   "execution_count": 27,
   "metadata": {},
   "outputs": [],
   "source": [
    "import pandas as pd\n"
   ]
  },
  {
   "cell_type": "code",
   "execution_count": 33,
   "metadata": {},
   "outputs": [
    {
     "data": {
      "text/plain": [
       "DeltaGenerator()"
      ]
     },
     "execution_count": 33,
     "metadata": {},
     "output_type": "execute_result"
    }
   ],
   "source": [
    "df = pd.DataFrame(np.random.randn(10, 2), columns=['x', 'y'])\n",
    "st.line_chart(df)\n"
   ]
  },
  {
   "cell_type": "code",
   "execution_count": 37,
   "metadata": {},
   "outputs": [
    {
     "data": {
      "text/plain": [
       "DeltaGenerator()"
      ]
     },
     "execution_count": 37,
     "metadata": {},
     "output_type": "execute_result"
    }
   ],
   "source": [
    "df = pd.DataFrame(np.random.rand(10, 2), columns=['x', 'y'])\n",
    "st.bar_chart(df)\n"
   ]
  },
  {
   "cell_type": "code",
   "execution_count": 38,
   "metadata": {},
   "outputs": [
    {
     "data": {
      "text/plain": [
       "DeltaGenerator()"
      ]
     },
     "execution_count": 38,
     "metadata": {},
     "output_type": "execute_result"
    }
   ],
   "source": [
    "df = pd.DataFrame(np.random.randn(10, 2), columns=['x', 'y'])\n",
    "st.area_chart(df)\n"
   ]
  },
  {
   "cell_type": "code",
   "execution_count": 39,
   "metadata": {},
   "outputs": [],
   "source": [
    "import altair as alt\n"
   ]
  },
  {
   "cell_type": "code",
   "execution_count": 42,
   "metadata": {},
   "outputs": [
    {
     "data": {
      "text/plain": [
       "DeltaGenerator()"
      ]
     },
     "execution_count": 42,
     "metadata": {},
     "output_type": "execute_result"
    }
   ],
   "source": [
    "df = pd.DataFrame(np.random.randn(500, 3), columns=['x', 'y', 'z'])\n",
    "c = alt.Chart(df).mark_circle().encode(x='x', y='y', size='z', color='z', tooltip=['x', 'y', 'z'])\n",
    "st.altair_chart(c, use_container_width=True)\n"
   ]
  },
  {
   "cell_type": "code",
   "execution_count": 43,
   "metadata": {},
   "outputs": [],
   "source": [
    "import graphviz\n"
   ]
  },
  {
   "cell_type": "code",
   "execution_count": 44,
   "metadata": {},
   "outputs": [
    {
     "data": {
      "text/plain": [
       "DeltaGenerator()"
      ]
     },
     "execution_count": 44,
     "metadata": {},
     "output_type": "execute_result"
    }
   ],
   "source": [
    "st.graphviz_chart('''digraph {Big_shark -> Tuna  Tuna -> Mackerel  Mackerel -> Small_fishes  Small_fishes -> Shrimp}''')\n"
   ]
  },
  {
   "cell_type": "code",
   "execution_count": 45,
   "metadata": {},
   "outputs": [
    {
     "data": {
      "text/plain": [
       "DeltaGenerator()"
      ]
     },
     "execution_count": 45,
     "metadata": {},
     "output_type": "execute_result"
    }
   ],
   "source": [
    "df = pd.DataFrame(np.random.randn(500, 2) / [50, 50] + [37.76, -122.4], columns=['lat', 'lon'])\n",
    "st.map(df)\n"
   ]
  },
  {
   "cell_type": "code",
   "execution_count": 46,
   "metadata": {},
   "outputs": [],
   "source": [
    "import pickle\n"
   ]
  },
  {
   "cell_type": "code",
   "execution_count": 47,
   "metadata": {},
   "outputs": [],
   "source": [
    "@st.cache(suppress_st_warning=True)\n",
    "def get_fvalue(val):\n",
    "    feature_dict = {'No': 1, 'Yes': 2}\n",
    "\n",
    "    for key, value in feature_dict.items():\n",
    "        if val == key:\n",
    "            return value\n",
    "\n",
    "def get_value(val, my_dict):\n",
    "    for key, value in my_dict.items():\n",
    "        if val == key:\n",
    "            return value\n"
   ]
  },
  {
   "cell_type": "code",
   "execution_count": 48,
   "metadata": {},
   "outputs": [],
   "source": [
    "app_mode = st.sidebar.selectbox('Select Page', ['Home', 'Prediction'])\n"
   ]
  },
  {
   "cell_type": "code",
   "execution_count": 56,
   "metadata": {},
   "outputs": [],
   "source": [
    "# ERROR\n",
    "#if app_mode == 'Home':\n",
    "#    st.title('LOAN PREDICTION :')\n",
    "#    st.image('loan_iamge.jpg')\n",
    "#    st.markdown('Dataset :')\n",
    "\n",
    "#    data = read_csv('loan_dataset.csv')\n",
    "\n",
    "#    st.write(data.head())\n",
    "#    st.markdown('Applicant Income Vs Loan Amount')\n",
    "#    st.bar_chart(data[['ApplicantIncome', 'LoanAmount']].head(20))\n",
    "#\n",
    "#elif app_mode == 'Prediction':\n",
    "#    st.iamge('slider-short-3.jpg)\n",
    "#    st.subheader('Sir/Mme', 'YOU need to fill all necessary information in order'\n",
    "#                 ' to get a reply to your loan request !')\n",
    "#    st.sidebar.header('Inormations about the client :')\n",
    "\n",
    "#    gender_dict = {'Male': 1, 'Female': 2}\n",
    "#    feature_dict = {'No': 1, 'Yes': 2}\n",
    "#    edu = {'Graduate': 1, 'Not Graduate': 2}\n",
    "#    prop = {'Rural': 1, 'Urban': 2, 'Semiurban': 3}\n",
    "\n",
    "#    ApplicantIncome = st.sidebar.slider('ApplicantIncome', 0, 10000, 0)\n",
    "#    CoapplicantIncome = st.sidebar.slider('CoapplicantIncome', 0, 10000, 0)\n",
    "#    LoanAmount = st.sidebar.slider('LoanAmount in K$', 9.0, 700.0, 200.0)\n",
    "#    Loan_Amount_Term = st.sidebar.selectbox('Loan_Amount_Term', (12.0, 36.0, 60.0, 84.0, 120.0, 180.0, 240.0, 300.0, 360.0))\n",
    "#    Credit_History = st.sidebar.radio('Credit_History', (0.0, 1.0))\n",
    "#    Gender = st.sidebar.radio('Gender', tuple(gender_dict.keys()))\n",
    "#    Married = st.sidebar.radio('Married', tuple(feature_dict.keys()))\n",
    "#    Self_Employed = st.sidebar.radio('Self Employed', tuple(feature_dict.keys()))\n",
    "#    Dependents = st.sidebar.radio('Dependents', options=['0', '1', '2', '3+'])\n",
    "#    Education = st.sidebar.radio('Education', tuple(edu.keys()))\n",
    "#    Property_Area = st.sidebar.radio('Property_Area', tuple(prop.keys()))\n",
    "\n",
    "#    class_0, class_3, class_1, class_2 = 0, 0, 0, 0\n"
   ]
  },
  {
   "cell_type": "code",
   "execution_count": 57,
   "metadata": {},
   "outputs": [],
   "source": [
    "# ERROR\n",
    "#if Dependents == '0':\n",
    "#    class_0 = 1\n",
    "#elif Dependents == '1':\n",
    "#    class_1 = 1\n",
    "#elif Dependents == '2':\n",
    "#    class_2 = 1\n",
    "#else:\n",
    "#    class_3 = 1\n"
   ]
  },
  {
   "cell_type": "code",
   "execution_count": 58,
   "metadata": {},
   "outputs": [],
   "source": [
    "# ERROR\n",
    "#Rural, Urban, Semiurban = 0, 0, 0\n",
    "\n",
    "#if Property_Area == 'Urban':\n",
    "#    Urban = 1\n",
    "#elif Property_Area == 'Semiurban':\n",
    "#    Semiurban = 1\n",
    "#else:\n",
    "#    Rural = 1\n"
   ]
  },
  {
   "cell_type": "code",
   "execution_count": 59,
   "metadata": {},
   "outputs": [],
   "source": [
    "#data1 = {'Gender': Gender, 'Married': Married, 'Dependents': [class_0, class_1, class_2, class_3],\n",
    "#         'Education': Education, 'ApplicantIncome': ApplicantIncome, 'CoapplicantIncome': CoapplicantIncome,\n",
    "#         'Self Employed': Self_Employed, 'LoanAmount': LoanAmount, 'Loan_Amount_Term': Loan_Amount_Term,\n",
    "#         'Credit_History': Credit_History, 'Property_Area': [Rural, Urban, Semiurban]}\n",
    "\n",
    "#feature_list = [ApplicantIncome, CoapplicantIncome, LoanAmount, Loan_Amount_Term, Credit_History,\n",
    "#                get_value(Gender, gender_dict), get_fvalue(Married), data1['Dependents'][0],\n",
    "#                data1['Dependents'][1], data1['Dependents'][2], data1['Dependents'][3],\n",
    "#                get_value(Education, edu), get_fvalue(Self_Employed), data1['Property_Area'][0],\n",
    "#                data1['Property_Area'][1], data1['Property_Area'][2]]\n",
    "\n",
    "#single_sample = np.array(feature_list).reshape(1, -1)\n"
   ]
  },
  {
   "cell_type": "code",
   "execution_count": 60,
   "metadata": {},
   "outputs": [],
   "source": [
    "if st.button('Predict'):\n",
    "    file_ = open('6m-rain.gif', 'rb')\n",
    "    contents = file_.read()\n",
    "    data_url = base64.b64encode(contents).decode('utf-8')\n",
    "    file_.close()\n",
    "\n",
    "    file = open('green-cola-no.gif', 'rb')\n",
    "    contents = file.read()\n",
    "    data_url_no = base64.b64encode(contents).decode('utf-8')\n",
    "    file.close()\n",
    "\n",
    "    loaded_model = pickle.load(open('Random_Forest.sav', 'rb'))\n",
    "    prediction = loaded_model.predict(single_sample)\n",
    "\n",
    "    if prediction[0] == 0:\n",
    "        st.error('According to our Calculations, you sill not get the loan ffom Bank')\n",
    "        st.markdown(f'<img src=\"data:image/gif;base64,{data_url_no}\" alt=\"car gif\">', unsafe_allow_html=True)\n",
    "\n",
    "    elif prediction[0] == 1:\n",
    "        st.success('Congratulations!! you will get the loan from Bank')\n",
    "        st.markdown(f'<img src=\"data:iamge/gif;base64,{data_url}\" alt=\"cat gif\">', unsafe_allow_html=True)\n"
   ]
  }
 ],
 "metadata": {
  "kernelspec": {
   "display_name": "Python 3",
   "language": "python",
   "name": "python3"
  },
  "language_info": {
   "codemirror_mode": {
    "name": "ipython",
    "version": 3
   },
   "file_extension": ".py",
   "mimetype": "text/x-python",
   "name": "python",
   "nbconvert_exporter": "python",
   "pygments_lexer": "ipython3",
   "version": "3.10.4"
  },
  "orig_nbformat": 4
 },
 "nbformat": 4,
 "nbformat_minor": 2
}
