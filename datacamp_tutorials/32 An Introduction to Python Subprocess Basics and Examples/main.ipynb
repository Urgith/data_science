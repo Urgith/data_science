{
 "cells": [
  {
   "cell_type": "code",
   "execution_count": 1,
   "metadata": {},
   "outputs": [],
   "source": [
    "import subprocess\n"
   ]
  },
  {
   "cell_type": "code",
   "execution_count": 2,
   "metadata": {},
   "outputs": [
    {
     "data": {
      "text/plain": [
       "' Volume in drive C is Acer\\n Volume Serial Number is 489A-CC6B\\n\\n Directory of c:\\\\Users\\\\acer\\\\Desktop\\\\NAUKA\\\\Python Nauka\\\\data_science\\\\datacamp_tutorials\\\\32 An Introduction to Python Subprocess Basics and Examples\\n\\n28.09.2023  14:30    <DIR>          .\\n28.09.2023  14:30    <DIR>          ..\\n28.09.2023  14:40             3˙579 main.ipynb\\n28.09.2023  14:31                50 my_python_file.py\\n               2 File(s)          3˙629 bytes\\n               2 Dir(s)  294˙127˙005˙696 bytes free\\n'"
      ]
     },
     "execution_count": 2,
     "metadata": {},
     "output_type": "execute_result"
    }
   ],
   "source": [
    "result = subprocess.run(['dir'], shell=True, capture_output=True, text=True)\n",
    "result.stdout\n"
   ]
  },
  {
   "cell_type": "code",
   "execution_count": 3,
   "metadata": {},
   "outputs": [
    {
     "data": {
      "text/plain": [
       "'This is the output from subprocess module\\n'"
      ]
     },
     "execution_count": 3,
     "metadata": {},
     "output_type": "execute_result"
    }
   ],
   "source": [
    "result = subprocess.run(['python', 'my_python_file.py'], capture_output=True, text=True)\n",
    "result.stdout\n"
   ]
  },
  {
   "cell_type": "code",
   "execution_count": 4,
   "metadata": {},
   "outputs": [],
   "source": [
    "# ERROR\n",
    "#result = subprocess.run(['C:\\Users\\acer\\AppData\\Local\\Programs\\Python\\Python310', '-c', \"print('This is directly from a subprocess.run() function')\"],\n",
    "#                        capture_output=True, text=True)\n",
    "\n",
    "#result.stdout\n"
   ]
  },
  {
   "cell_type": "code",
   "execution_count": 5,
   "metadata": {},
   "outputs": [],
   "source": [
    "# ERROR\n",
    "#result = subprocess.run(['python', 'file_donot_exist.py'], capture_output=True, text=True, check=True)\n",
    "\n",
    "#print(result.stdout)\n",
    "#result.stderr\n"
   ]
  },
  {
   "cell_type": "code",
   "execution_count": 6,
   "metadata": {},
   "outputs": [
    {
     "name": "stdout",
     "output_type": "stream",
     "text": [
      "\n"
     ]
    },
    {
     "data": {
      "text/plain": [
       "\"python: can't open file 'c:\\\\\\\\Users\\\\\\\\acer\\\\\\\\Desktop\\\\\\\\NAUKA\\\\\\\\Python Nauka\\\\\\\\data_science\\\\\\\\datacamp_tutorials\\\\\\\\32 An Introduction to Python Subprocess Basics and Examples\\\\\\\\my_python_file2.py': [Errno 2] No such file or directory\\n\""
      ]
     },
     "execution_count": 6,
     "metadata": {},
     "output_type": "execute_result"
    }
   ],
   "source": [
    "result = subprocess.run(['python', 'my_python_file2.py'], capture_output=True, text=True, check=False)\n",
    "\n",
    "print(result.stdout)\n",
    "result.stderr\n"
   ]
  },
  {
   "cell_type": "code",
   "execution_count": 8,
   "metadata": {},
   "outputs": [
    {
     "data": {
      "text/plain": [
       "'usage: python [option] ... [-c cmd | -m mod | file | -] [arg] ...\\nOptions and arguments (and corresponding environment variables):\\n-b     : issue warnings about str(bytes_instance), str(bytearray_instance)\\n         and comparing bytes/bytearray with str. (-bb: issue errors)\\n-B     : don\\'t write .pyc files on import; also PYTHONDONTWRITEBYTECODE=x\\n-c cmd : program passed in as string (terminates option list)\\n-d     : turn on parser debugging output (for experts only, only works on\\n         debug builds); also PYTHONDEBUG=x\\n-E     : ignore PYTHON* environment variables (such as PYTHONPATH)\\n-h     : print this help message and exit (also --help)\\n-i     : inspect interactively after running script; forces a prompt even\\n         if stdin does not appear to be a terminal; also PYTHONINSPECT=x\\n-I     : isolate Python from the user\\'s environment (implies -E and -s)\\n-m mod : run library module as a script (terminates option list)\\n-O     : remove assert and __debug__-dependent statements; add .opt-1 before\\n         .pyc extension; also PYTHONOPTIMIZE=x\\n-OO    : do -O changes and also discard docstrings; add .opt-2 before\\n         .pyc extension\\n-q     : don\\'t print version and copyright messages on interactive startup\\n-s     : don\\'t add user site directory to sys.path; also PYTHONNOUSERSITE\\n-S     : don\\'t imply \\'import site\\' on initialization\\n-u     : force the stdout and stderr streams to be unbuffered;\\n         this option has no effect on stdin; also PYTHONUNBUFFERED=x\\n-v     : verbose (trace import statements); also PYTHONVERBOSE=x\\n         can be supplied multiple times to increase verbosity\\n-V     : print the Python version number and exit (also --version)\\n         when given twice, print more information about the build\\n-W arg : warning control; arg is action:message:category:module:lineno\\n         also PYTHONWARNINGS=arg\\n-x     : skip first line of source, allowing use of non-Unix forms of #!cmd\\n-X opt : set implementation-specific option. The following options are available:\\n\\n         -X faulthandler: enable faulthandler\\n         -X showrefcount: output the total reference count and number of used\\n             memory blocks when the program finishes or after each statement in the\\n             interactive interpreter. This only works on debug builds\\n         -X tracemalloc: start tracing Python memory allocations using the\\n             tracemalloc module. By default, only the most recent frame is stored in a\\n             traceback of a trace. Use -X tracemalloc=NFRAME to start tracing with a\\n             traceback limit of NFRAME frames\\n         -X importtime: show how long each import takes. It shows module name,\\n             cumulative time (including nested imports) and self time (excluding\\n             nested imports). Note that its output may be broken in multi-threaded\\n             application. Typical usage is python3 -X importtime -c \\'import asyncio\\'\\n         -X dev: enable CPython\\'s \"development mode\", introducing additional runtime\\n             checks which are too expensive to be enabled by default. Effect of the\\n             developer mode:\\n                * Add default warning filter, as -W default\\n                * Install debug hooks on memory allocators: see the PyMem_SetupDebugHooks() C function\\n                * Enable the faulthandler module to dump the Python traceback on a crash\\n                * Enable asyncio debug mode\\n                * Set the dev_mode attribute of sys.flags to True\\n                * io.IOBase destructor logs close() exceptions\\n         -X utf8: enable UTF-8 mode for operating system interfaces, overriding the default\\n             locale-aware mode. -X utf8=0 explicitly disables UTF-8 mode (even when it would\\n             otherwise activate automatically)\\n         -X pycache_prefix=PATH: enable writing .pyc files to a parallel tree rooted at the\\n             given directory instead of to the code tree\\n         -X warn_default_encoding: enable opt-in EncodingWarning for \\'encoding=None\\'\\n\\n--check-hash-based-pycs always|default|never:\\n    control how Python invalidates hash-based .pyc files\\nfile   : program read from script file\\n-      : program read from stdin (default; interactive mode if a tty)\\narg ...: arguments passed to program in sys.argv[1:]\\n\\nOther environment variables:\\nPYTHONSTARTUP: file executed on interactive startup (no default)\\nPYTHONPATH   : \\';\\'-separated list of directories prefixed to the\\n               default module search path.  The result is sys.path.\\nPYTHONHOME   : alternate <prefix> directory (or <prefix>;<exec_prefix>).\\n               The default module search path uses <prefix>\\\\python{major}{minor}.\\nPYTHONPLATLIBDIR : override sys.platlibdir.\\nPYTHONCASEOK : ignore case in \\'import\\' statements (Windows).\\nPYTHONUTF8: if set to 1, enable the UTF-8 mode.\\nPYTHONIOENCODING: Encoding[:errors] used for stdin/stdout/stderr.\\nPYTHONFAULTHANDLER: dump the Python traceback on fatal errors.\\nPYTHONHASHSEED: if this variable is set to \\'random\\', a random value is used\\n   to seed the hashes of str and bytes objects.  It can also be set to an\\n   integer in the range [0,4294967295] to get hash values with a\\n   predictable seed.\\nPYTHONMALLOC: set the Python memory allocators and/or install debug hooks\\n   on Python memory allocators. Use PYTHONMALLOC=debug to install debug\\n   hooks.\\nPYTHONCOERCECLOCALE: if this variable is set to 0, it disables the locale\\n   coercion behavior. Use PYTHONCOERCECLOCALE=warn to request display of\\n   locale coercion and locale compatibility warnings on stderr.\\nPYTHONBREAKPOINT: if this variable is set to 0, it disables the default\\n   debugger. It can be set to the callable of your debugger of choice.\\nPYTHONDEVMODE: enable the development mode.\\nPYTHONPYCACHEPREFIX: root directory for bytecode cache (pyc) files.\\nPYTHONWARNDEFAULTENCODING: enable opt-in EncodingWarning for \\'encoding=None\\'.\\n'"
      ]
     },
     "execution_count": 8,
     "metadata": {},
     "output_type": "execute_result"
    }
   ],
   "source": [
    "p = subprocess.Popen(['python', '--help'], stdout=subprocess.PIPE, stderr=subprocess.PIPE, text=True)\n",
    "\n",
    "output, errors = p.communicate()\n",
    "output\n"
   ]
  },
  {
   "cell_type": "code",
   "execution_count": 9,
   "metadata": {},
   "outputs": [
    {
     "name": "stdout",
     "output_type": "stream",
     "text": [
      "Command executed succesfully.\n"
     ]
    }
   ],
   "source": [
    "return_code = subprocess.call(['python', '--version'])\n",
    "\n",
    "if return_code == 0:\n",
    "    print('Command executed succesfully.')\n",
    "else:\n",
    "    print('Command failed with return code', return_code)\n"
   ]
  },
  {
   "cell_type": "code",
   "execution_count": 11,
   "metadata": {},
   "outputs": [
    {
     "name": "stdout",
     "output_type": "stream",
     "text": [
      "Python 3.10.4\n",
      "\n"
     ]
    }
   ],
   "source": [
    "try:\n",
    "    output = subprocess.check_output(['python', '--version'], text=True)\n",
    "    print(output)\n",
    "\n",
    "except subprocess.CalledProcessError as e:\n",
    "    print(f'Command failed with return code {e.returncode}')\n"
   ]
  },
  {
   "cell_type": "code",
   "execution_count": 14,
   "metadata": {},
   "outputs": [],
   "source": [
    "# ERROR\n",
    "#ls_process = subprocess.Popen(['ls'], stdout=subprocess.PIPE, text=True)\n",
    "#grep_process = subprocess.Popen(['grep', 'sample'], stdin=ls_process.stdout, stdout=subprocess.PIPE, text=True)\n",
    "\n",
    "#output, error = grep_process.communicate()\n",
    "\n",
    "#output, error\n"
   ]
  }
 ],
 "metadata": {
  "kernelspec": {
   "display_name": "Python 3",
   "language": "python",
   "name": "python3"
  },
  "language_info": {
   "codemirror_mode": {
    "name": "ipython",
    "version": 3
   },
   "file_extension": ".py",
   "mimetype": "text/x-python",
   "name": "python",
   "nbconvert_exporter": "python",
   "pygments_lexer": "ipython3",
   "version": "3.10.4"
  },
  "orig_nbformat": 4
 },
 "nbformat": 4,
 "nbformat_minor": 2
}
