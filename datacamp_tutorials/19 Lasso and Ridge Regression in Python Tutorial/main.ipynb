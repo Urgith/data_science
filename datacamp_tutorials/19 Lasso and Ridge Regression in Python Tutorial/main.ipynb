{
 "cells": [
  {
   "cell_type": "code",
   "execution_count": 3,
   "metadata": {},
   "outputs": [],
   "source": [
    "import pandas as pd\n",
    "import numpy as np\n",
    "import seaborn as sns\n",
    "import matplotlib.pyplot as plt\n",
    "\n",
    "from sklearn.model_selection import train_test_split\n",
    "from sklearn.linear_model import LinearRegression\n",
    "from sklearn.linear_model import Ridge, RidgeCV, Lasso\n",
    "from sklearn.preprocessing import StandardScaler\n",
    "# ERROR\n",
    "#from sklearn.datasets import load_boston\n"
   ]
  },
  {
   "cell_type": "code",
   "execution_count": 5,
   "metadata": {},
   "outputs": [],
   "source": [
    "# ERROR\n",
    "#boston = load_boston()\n",
    "#boston_df = pd.DataFrame(boston.data, columns=boston.feature_names)\n",
    "\n",
    "#boston_df['Price'] = boston.target\n",
    "#boston_df.head()\n",
    "\n",
    "#plt.figure(figsize=(10, 10))\n",
    "#sns.heatmap(boston_df.corr(), annot=True)\n"
   ]
  },
  {
   "cell_type": "code",
   "execution_count": 6,
   "metadata": {},
   "outputs": [],
   "source": [
    "# ERROR\n",
    "#boston_df.drop(columns=['INDUS', 'NOX'], inplace=True)\n",
    "#sns.pairplot(boston_df)\n",
    "\n",
    "#boston_df.LSTAT = np.log(boston_df.LSTAT)\n"
   ]
  },
  {
   "cell_type": "code",
   "execution_count": 8,
   "metadata": {},
   "outputs": [],
   "source": [
    "# ERROR\n",
    "#features = boston_df.columns[:11]\n",
    "#target = boston_df.columns[-1]\n",
    "\n",
    "#X = boston_df[features].values\n",
    "#y = boston_df[target].values\n",
    "\n",
    "#X_train, X_test, y_train, y_test = train_test_split(X, y, test_size=0.3, random_state=17)\n",
    "\n",
    "#print('The dimension of X_train is {}'.format(X_train.shape))\n",
    "#print('The dimension of X_test is {}'.format(X_test.shape))\n",
    "\n",
    "#scaler = StandardScaler()\n",
    "\n",
    "#X_train = scaler.fit_transform(X_train)\n",
    "#X_test = scaler.transform(X_test)\n"
   ]
  },
  {
   "cell_type": "code",
   "execution_count": 10,
   "metadata": {},
   "outputs": [],
   "source": [
    "# ERROR\n",
    "#lr = LinearRegression()\n",
    "#lr.fit(X_train, y_train)\n",
    "\n",
    "#prediction = lr.predict(X_test)\n",
    "#actual = y_test\n",
    "\n",
    "#train_score_lr = lr.score(X_train, y_train)\n",
    "#test_score_lr = lr.score(X_test, y_test)\n",
    "\n",
    "#print('The train score for lr model is {}'.format(train_score_lr))\n",
    "#print('The test score for lr model is {}'.format(test_score_lr))\n",
    "\n",
    "#ridgeReg = Ridge(alpha=10)\n",
    "#ridgeReg.fit(X_train, y_train)\n",
    "\n",
    "#train_score_ridge = ridgeReg.score(X_train, y_train)\n",
    "#test_score_ridge = ridgeReg.score(X_test, y_test)\n",
    "\n",
    "#print('\\n Ridge Model............................................\\n')\n",
    "#print('The train score for ridge model is {}'.format(train_score_ridge))\n",
    "#print('The test score for ridge model is {}'.format(test_score_ridge))\n"
   ]
  },
  {
   "cell_type": "code",
   "execution_count": 12,
   "metadata": {},
   "outputs": [],
   "source": [
    "# ERROR\n",
    "#plt.figure(figsize=(10, 10))\n",
    "\n",
    "#plt.plot(features, ridgeReg.coef_, alpha=0.7, linestyle='none', marker='*', markersize=5, color='red', label=r'Ridge; $\\alpha = 10$', zorder=7)\n",
    "#plt.plot(features, lr.coef_, alpha=0.4, linestyle='none', marker='o', markersize=7, color='green', label='Linear Regression')\n",
    "\n",
    "#plt.xticks(rotation=90)\n",
    "#plt.legend()\n"
   ]
  },
  {
   "cell_type": "code",
   "execution_count": 14,
   "metadata": {},
   "outputs": [],
   "source": [
    "# ERROR\n",
    "#print('\\nLasso Model............................................\\n')\n",
    "\n",
    "#lasso = Lasso(alpha=10)\n",
    "#lasso.fit(X_train, y_train)\n",
    "\n",
    "#train_score_ls = lasso.score(X_train, y_train)\n",
    "#test_score_ls = lasso.score(X_test, y_test)\n",
    "\n",
    "#print('The train score for ls model is {}'.format(train_score_ls))\n",
    "#print('The test score for ls model is {}'.format(test_score_ls))\n"
   ]
  },
  {
   "cell_type": "code",
   "execution_count": 16,
   "metadata": {},
   "outputs": [],
   "source": [
    "# ERROR\n",
    "#pd.Series(lasso.coef_, features).sort_values(ascending=True).plot(kind='bar')\n"
   ]
  },
  {
   "cell_type": "code",
   "execution_count": 18,
   "metadata": {},
   "outputs": [],
   "source": [
    "#from sklearn.linear_model import LassoCV\n",
    "\n",
    "#lasso_cv = LassoCV(alphas=[0.0001, 0.001, 0.01, 0.1, 1, 10], random_state=0).fit(X_train, y_train)\n",
    "\n",
    "#print(lasso_cv.score(X_train, y_train))\n",
    "#print(lasso_cv.score(X_test, y_test))\n"
   ]
  },
  {
   "cell_type": "code",
   "execution_count": 20,
   "metadata": {},
   "outputs": [],
   "source": [
    "# ERROR\n",
    "#plt.figure(figsize=(10, 10))\n",
    "\n",
    "#plt.plot(features, ridgeReg.coef_, alpha=0.7, linestyle='none', marker='*', markersize=5, color='red', label=r'Ridge; $\\alpha = 10$', zorder=7)\n",
    "#plt.plot(lasso_cv.coef_, alpha=0.5, linestyle='none', marker='d', markersize=6, color='blue', label=r'lasso; $\\alpha = grid$')\n",
    "#plt.plot(features, lr.coef_, alpha=0.4, linestyle='none', marker='o', markersize=7, color='green', label='Linear Regression')\n",
    "\n",
    "#plt.xticks(rotation=90)\n",
    "#plt.legend()\n",
    "#plt.title('Comparison plot of Ridge, Lasso and Linear regression model')\n"
   ]
  },
  {
   "cell_type": "code",
   "execution_count": 22,
   "metadata": {},
   "outputs": [],
   "source": [
    "# ERROR\n",
    "#ridge_cv = RidgeCV(alphas=[0.0001, 0.001, 0.01, 0.1, 1, 10]).fit(X_train, y_train)\n",
    "\n",
    "#print('The train score for ridge model is {}'.format(ridge_cv.score(X_train, y_train)))\n",
    "#print('The train score for ridge model is {}'.format(ridge_cv.score(X_test, y_test)))\n"
   ]
  }
 ],
 "metadata": {
  "kernelspec": {
   "display_name": "Python 3",
   "language": "python",
   "name": "python3"
  },
  "language_info": {
   "codemirror_mode": {
    "name": "ipython",
    "version": 3
   },
   "file_extension": ".py",
   "mimetype": "text/x-python",
   "name": "python",
   "nbconvert_exporter": "python",
   "pygments_lexer": "ipython3",
   "version": "3.10.4"
  },
  "orig_nbformat": 4
 },
 "nbformat": 4,
 "nbformat_minor": 2
}
