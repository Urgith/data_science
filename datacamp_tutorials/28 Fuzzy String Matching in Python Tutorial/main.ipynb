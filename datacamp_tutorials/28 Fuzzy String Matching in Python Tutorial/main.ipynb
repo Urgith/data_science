{
 "cells": [
  {
   "cell_type": "code",
   "execution_count": 5,
   "metadata": {},
   "outputs": [],
   "source": [
    "from thefuzz import fuzz\n"
   ]
  },
  {
   "cell_type": "code",
   "execution_count": 6,
   "metadata": {},
   "outputs": [
    {
     "name": "stdout",
     "output_type": "stream",
     "text": [
      "Similarity score: 86\n"
     ]
    }
   ],
   "source": [
    "name = 'Kurtis Pykes'\n",
    "full_name = 'Kurtis K D Pykes'\n",
    "\n",
    "print(f'Similarity score: {fuzz.ratio(name, full_name)}')\n"
   ]
  },
  {
   "cell_type": "code",
   "execution_count": 7,
   "metadata": {},
   "outputs": [
    {
     "name": "stdout",
     "output_type": "stream",
     "text": [
      "Similarity score: 74\n"
     ]
    }
   ],
   "source": [
    "print(f'Similarity score: {fuzz.partial_ratio(name, full_name)}')\n"
   ]
  },
  {
   "cell_type": "code",
   "execution_count": 9,
   "metadata": {},
   "outputs": [],
   "source": [
    "full_name = 'Kurtis Pykes K D'\n"
   ]
  },
  {
   "cell_type": "code",
   "execution_count": 10,
   "metadata": {},
   "outputs": [
    {
     "name": "stdout",
     "output_type": "stream",
     "text": [
      "Partial ratio similarity score: 100\n",
      "Simple ratio similarity score: 86\n"
     ]
    }
   ],
   "source": [
    "print(f'Partial ratio similarity score: {fuzz.partial_ratio(name, full_name)}')\n",
    "print(f'Simple ratio similarity score: {fuzz.ratio(name, full_name)}')\n"
   ]
  },
  {
   "cell_type": "code",
   "execution_count": 11,
   "metadata": {},
   "outputs": [],
   "source": [
    "full_name = 'Kurtis K D Pykes'\n",
    "full_name_reordered = 'Kurtis Pykes K D'\n"
   ]
  },
  {
   "cell_type": "code",
   "execution_count": 12,
   "metadata": {},
   "outputs": [
    {
     "name": "stdout",
     "output_type": "stream",
     "text": [
      "Token sort ratio similarity score: 100\n",
      "Partial ratio similarity score: 86\n",
      "Simple ratio simialrity score: 86\n"
     ]
    }
   ],
   "source": [
    "print(f'Token sort ratio similarity score: {fuzz.token_sort_ratio(full_name_reordered, full_name)}')\n",
    "print(f'Partial ratio similarity score: {fuzz.partial_ratio(full_name, full_name_reordered)}')\n",
    "print(f'Simple ratio simialrity score: {fuzz.ratio(name, full_name)}')\n"
   ]
  },
  {
   "cell_type": "code",
   "execution_count": 13,
   "metadata": {},
   "outputs": [
    {
     "name": "stdout",
     "output_type": "stream",
     "text": [
      "Token sort ratio similarity score: 86\n"
     ]
    }
   ],
   "source": [
    "name = 'Kurtis Pykes'\n",
    "full_name = 'Kurtis K D Pykes'\n",
    "\n",
    "print(f'Token sort ratio similarity score: {fuzz.token_sort_ratio(name, full_name)}')\n"
   ]
  },
  {
   "cell_type": "code",
   "execution_count": 14,
   "metadata": {},
   "outputs": [
    {
     "name": "stdout",
     "output_type": "stream",
     "text": [
      "Token sort ratio similarity score: 100\n"
     ]
    }
   ],
   "source": [
    "print(f'Token sort ratio similarity score: {fuzz.token_set_ratio(name, full_name)}')\n"
   ]
  },
  {
   "cell_type": "code",
   "execution_count": 15,
   "metadata": {},
   "outputs": [],
   "source": [
    "from thefuzz import process\n"
   ]
  },
  {
   "cell_type": "code",
   "execution_count": 17,
   "metadata": {},
   "outputs": [
    {
     "name": "stdout",
     "output_type": "stream",
     "text": [
      "[('barcelona fc', 86), ('AFC Barcelona', 82), ('Barcelona AFC', 82), ('afc barcelona', 82)]\n"
     ]
    }
   ],
   "source": [
    "collection = ['AFC Barcelona', 'Barcelona AFC', 'barcelona fc', 'afc barcelona']\n",
    "print(process.extract('barcelona', collection, scorer=fuzz.ratio))\n"
   ]
  },
  {
   "cell_type": "code",
   "execution_count": 18,
   "metadata": {},
   "outputs": [
    {
     "name": "stdout",
     "output_type": "stream",
     "text": [
      "[('barcelona fc', 86), ('AFC Barcelona', 82), ('Barcelona AFC', 82), ('afc barcelona', 82)]\n"
     ]
    }
   ],
   "source": [
    "print(process.extract('barcelona', collection, scorer=fuzz.ratio))\n"
   ]
  },
  {
   "cell_type": "code",
   "execution_count": 19,
   "metadata": {},
   "outputs": [],
   "source": [
    "import pandas as pd\n"
   ]
  },
  {
   "cell_type": "code",
   "execution_count": 20,
   "metadata": {},
   "outputs": [],
   "source": [
    "dict_one = {'country': ['England', 'Scotland', 'Wales', 'United Kingdom', 'Northern Ireland'],\n",
    "            'population_in_milions': [55.98, 5.45, 3.14, 7.33, 1.89]\n",
    "}\n",
    "\n",
    "dict_two = {'country': ['Northern Iland', 'Wles', 'Scotlnd', 'Englnd', 'United K.'],\n",
    "            'GDP_per_capita': [24900, 23882, 37460, 45101, 46510.28]\n",
    "}\n"
   ]
  },
  {
   "cell_type": "code",
   "execution_count": 21,
   "metadata": {},
   "outputs": [
    {
     "name": "stdout",
     "output_type": "stream",
     "text": [
      "            country  population_in_milions\n",
      "0           England                  55.98\n",
      "1          Scotland                   5.45\n",
      "2             Wales                   3.14\n",
      "3    United Kingdom                   7.33\n",
      "4  Northern Ireland                   1.89\n",
      "\n",
      "          country  GDP_per_capita\n",
      "0  Northern Iland        24900.00\n",
      "1            Wles        23882.00\n",
      "2         Scotlnd        37460.00\n",
      "3          Englnd        45101.00\n",
      "4       United K.        46510.28\n"
     ]
    }
   ],
   "source": [
    "existing_data = pd.DataFrame(dict_one)\n",
    "exported_data = pd.DataFrame(dict_two)\n",
    "\n",
    "print(existing_data, exported_data, sep='\\n\\n')\n"
   ]
  },
  {
   "cell_type": "code",
   "execution_count": 22,
   "metadata": {},
   "outputs": [
    {
     "data": {
      "text/html": [
       "<div>\n",
       "<style scoped>\n",
       "    .dataframe tbody tr th:only-of-type {\n",
       "        vertical-align: middle;\n",
       "    }\n",
       "\n",
       "    .dataframe tbody tr th {\n",
       "        vertical-align: top;\n",
       "    }\n",
       "\n",
       "    .dataframe thead th {\n",
       "        text-align: right;\n",
       "    }\n",
       "</style>\n",
       "<table border=\"1\" class=\"dataframe\">\n",
       "  <thead>\n",
       "    <tr style=\"text-align: right;\">\n",
       "      <th></th>\n",
       "      <th>country</th>\n",
       "      <th>population_in_milions</th>\n",
       "      <th>GDP_per_capita</th>\n",
       "    </tr>\n",
       "  </thead>\n",
       "  <tbody>\n",
       "    <tr>\n",
       "      <th>0</th>\n",
       "      <td>England</td>\n",
       "      <td>55.98</td>\n",
       "      <td>NaN</td>\n",
       "    </tr>\n",
       "    <tr>\n",
       "      <th>1</th>\n",
       "      <td>Scotland</td>\n",
       "      <td>5.45</td>\n",
       "      <td>NaN</td>\n",
       "    </tr>\n",
       "    <tr>\n",
       "      <th>2</th>\n",
       "      <td>Wales</td>\n",
       "      <td>3.14</td>\n",
       "      <td>NaN</td>\n",
       "    </tr>\n",
       "    <tr>\n",
       "      <th>3</th>\n",
       "      <td>United Kingdom</td>\n",
       "      <td>7.33</td>\n",
       "      <td>NaN</td>\n",
       "    </tr>\n",
       "    <tr>\n",
       "      <th>4</th>\n",
       "      <td>Northern Ireland</td>\n",
       "      <td>1.89</td>\n",
       "      <td>NaN</td>\n",
       "    </tr>\n",
       "  </tbody>\n",
       "</table>\n",
       "</div>"
      ],
      "text/plain": [
       "            country  population_in_milions  GDP_per_capita\n",
       "0           England                  55.98             NaN\n",
       "1          Scotland                   5.45             NaN\n",
       "2             Wales                   3.14             NaN\n",
       "3    United Kingdom                   7.33             NaN\n",
       "4  Northern Ireland                   1.89             NaN"
      ]
     },
     "execution_count": 22,
     "metadata": {},
     "output_type": "execute_result"
    }
   ],
   "source": [
    "data = pd.merge(existing_data, exported_data, on='country', how='left')\n",
    "data.head()\n"
   ]
  },
  {
   "cell_type": "code",
   "execution_count": 23,
   "metadata": {},
   "outputs": [],
   "source": [
    "exported_data['country'] = exported_data['country'].apply(lambda x: process.extractOne(x, existing_data['country'], scorer=fuzz.partial_ratio)[0])\n"
   ]
  },
  {
   "cell_type": "code",
   "execution_count": 24,
   "metadata": {},
   "outputs": [
    {
     "name": "stdout",
     "output_type": "stream",
     "text": [
      "            country  population_in_milions  GDP_per_capita\n",
      "0           England                  55.98        45101.00\n",
      "1          Scotland                   5.45        37460.00\n",
      "2             Wales                   3.14        23882.00\n",
      "3    United Kingdom                   7.33        46510.28\n",
      "4  Northern Ireland                   1.89        24900.00\n"
     ]
    }
   ],
   "source": [
    "data = pd.merge(existing_data, exported_data, on='country', how='left')\n",
    "print(data.head())\n"
   ]
  }
 ],
 "metadata": {
  "kernelspec": {
   "display_name": "Python 3",
   "language": "python",
   "name": "python3"
  },
  "language_info": {
   "codemirror_mode": {
    "name": "ipython",
    "version": 3
   },
   "file_extension": ".py",
   "mimetype": "text/x-python",
   "name": "python",
   "nbconvert_exporter": "python",
   "pygments_lexer": "ipython3",
   "version": "3.10.4"
  },
  "orig_nbformat": 4
 },
 "nbformat": 4,
 "nbformat_minor": 2
}
