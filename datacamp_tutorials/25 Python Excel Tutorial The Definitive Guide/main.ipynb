{
 "cells": [
  {
   "cell_type": "code",
   "execution_count": 40,
   "metadata": {},
   "outputs": [],
   "source": [
    "import openpyxl\n"
   ]
  },
  {
   "cell_type": "code",
   "execution_count": 41,
   "metadata": {},
   "outputs": [],
   "source": [
    "wb = openpyxl.load_workbook('videogamesales.xlsx')\n"
   ]
  },
  {
   "cell_type": "code",
   "execution_count": 42,
   "metadata": {},
   "outputs": [],
   "source": [
    "ws = wb.active\n"
   ]
  },
  {
   "cell_type": "code",
   "execution_count": 43,
   "metadata": {},
   "outputs": [],
   "source": [
    "ws = wb['vgsales']\n"
   ]
  },
  {
   "cell_type": "code",
   "execution_count": 44,
   "metadata": {},
   "outputs": [
    {
     "name": "stdout",
     "output_type": "stream",
     "text": [
      "Total number of rows: 16328. And total number of columns: 20\n"
     ]
    }
   ],
   "source": [
    "print('Total number of rows: ' + str(ws.max_row) + '. And total number of columns: ' + str(ws.max_column))\n"
   ]
  },
  {
   "cell_type": "code",
   "execution_count": 45,
   "metadata": {},
   "outputs": [
    {
     "name": "stdout",
     "output_type": "stream",
     "text": [
      "The value in cell A1 is: Rank\n"
     ]
    }
   ],
   "source": [
    "print('The value in cell A1 is: ' + ws['A1'].value)\n"
   ]
  },
  {
   "cell_type": "code",
   "execution_count": 46,
   "metadata": {},
   "outputs": [
    {
     "name": "stdout",
     "output_type": "stream",
     "text": [
      "['Rank', 'Name', 'Platform', 'Year', 'Genre', 'Publisher', 'NA_Sales', 'EU_Sales', 'JP_Sales', 'Other_Sales', 'Sum of Sales', None, None, None, None, 'Average Sales', 'Number of Populated Cells', 'Number of Rows with Sports Genre', 'Total Sports Sales', 'Rounded Sum of Sports Sales']\n"
     ]
    }
   ],
   "source": [
    "values = [ws.cell(row=1, column=i).value for i in range(1, ws.max_column + 1)]\n",
    "print(values)\n"
   ]
  },
  {
   "cell_type": "code",
   "execution_count": 47,
   "metadata": {},
   "outputs": [
    {
     "name": "stdout",
     "output_type": "stream",
     "text": [
      "['Wii Sports', 'Super Mario Bros.', 'Mario Kart Wii', 'Wii Sports Resort', 'Pokemon Red/Pokemon Blue', 'Tetris', 'New Super Mario Bros.', 'Wii Play', 'New Super Mario Bros. Wii', 'Duck Hunt']\n"
     ]
    }
   ],
   "source": [
    "data = [ws.cell(row=i, column=2).value for i in range(2, 12)]\n",
    "print(data)\n"
   ]
  },
  {
   "cell_type": "code",
   "execution_count": 48,
   "metadata": {},
   "outputs": [
    {
     "name": "stdout",
     "output_type": "stream",
     "text": [
      "Rank    Name                               Platform  Year      Genre          Publisher      \n",
      "1       Wii Sports                         Wii       2006      Sports         Nintendo       \n",
      "2       Super Mario Bros.                  NES       1985      Platform       Nintendo       \n",
      "3       Mario Kart Wii                     Wii       2008      Racing         Nintendo       \n",
      "4       Wii Sports Resort                  Wii       2009      Sports         Nintendo       \n",
      "5       Pokemon Red/Pokemon Blue           GB        1996      Role-Playing   Nintendo       \n",
      "6       Tetris                             GB        1989      Puzzle         Nintendo       \n",
      "7       New Super Mario Bros.              DS        2006      Platform       Nintendo       \n",
      "8       Wii Play                           Wii       2006      Misc           Nintendo       \n",
      "9       New Super Mario Bros. Wii          Wii       2009      Platform       Nintendo       \n",
      "10      Duck Hunt                          NES       1984      Shooter        Nintendo       \n"
     ]
    }
   ],
   "source": [
    "my_list = list()\n",
    "\n",
    "for value in ws.iter_rows(min_row=1, max_row=11, min_col=1, max_col=6, values_only=True):\n",
    "    my_list.append(value)\n",
    "\n",
    "for ele1, ele2, ele3, ele4, ele5, ele6 in my_list:\n",
    "    print('{:<8}{:<35}{:<10}{:<10}{:<15}{:<15}'.format(ele1, ele2, ele3, ele4, ele5, ele6))\n"
   ]
  },
  {
   "cell_type": "code",
   "execution_count": 49,
   "metadata": {},
   "outputs": [],
   "source": [
    "ws['K1'] = 'Sum of Sales'\n"
   ]
  },
  {
   "cell_type": "code",
   "execution_count": 50,
   "metadata": {},
   "outputs": [
    {
     "data": {
      "text/plain": [
       "<Cell 'vgsales'.K1>"
      ]
     },
     "execution_count": 50,
     "metadata": {},
     "output_type": "execute_result"
    }
   ],
   "source": [
    "ws.cell(row=1, column=11, value='Sum of Sales')\n"
   ]
  },
  {
   "cell_type": "code",
   "execution_count": 51,
   "metadata": {},
   "outputs": [],
   "source": [
    "wb.save('videogamesales.xlsx')\n"
   ]
  },
  {
   "cell_type": "code",
   "execution_count": 52,
   "metadata": {},
   "outputs": [],
   "source": [
    "row_position = 2\n",
    "col_position = 7\n"
   ]
  },
  {
   "cell_type": "code",
   "execution_count": 53,
   "metadata": {},
   "outputs": [],
   "source": [
    "total_sales = (\n",
    "    (ws.cell(row=row_position, column=col_position).value) +\n",
    "    (ws.cell(row=row_position, column=col_position + 1).value) +\n",
    "    (ws.cell(row=row_position, column=col_position + 2).value) +\n",
    "    (ws.cell(row=row_position, column=col_position + 3).value)\n",
    ")\n",
    "\n",
    "ws.cell(row=2, column=11).value = total_sales\n",
    "wb.save('videogamesales.xlsx')\n"
   ]
  },
  {
   "cell_type": "code",
   "execution_count": 54,
   "metadata": {},
   "outputs": [],
   "source": [
    "row_position = 1\n",
    "\n",
    "for i in range(1, ws.max_row):\n",
    "    row_position += 1\n",
    "\n",
    "    NA_Sales = ws.cell(row=row_position, column=7).value\n",
    "    EU_Sales = ws.cell(row=row_position, column=8).value\n",
    "    JP_Sales = ws.cell(row=row_position, column=9).value\n",
    "    Other_Sales = ws.cell(row=row_position, column=10).value\n",
    "\n",
    "    total_sales = (NA_Sales + EU_Sales + JP_Sales + Other_Sales)\n",
    "    ws.cell(row=row_position, column=11).value = total_sales\n",
    "\n",
    "wb.save('videogamesales.xlsx')\n"
   ]
  },
  {
   "cell_type": "code",
   "execution_count": 55,
   "metadata": {},
   "outputs": [],
   "source": [
    "new_row = (1, 'The Legend of Zelda', 1986, 'Action', 'Nintendo', 3.74, 0.93, 1.69, 0.14, 6.51, 6.5)\n",
    "\n",
    "ws.append(new_row)\n",
    "wb.save('videogamesales.xlsx')\n"
   ]
  },
  {
   "cell_type": "code",
   "execution_count": 56,
   "metadata": {},
   "outputs": [
    {
     "data": {
      "text/plain": [
       "[1,\n",
       " 'The Legend of Zelda',\n",
       " 1986,\n",
       " 'Action',\n",
       " 'Nintendo',\n",
       " 3.74,\n",
       " 0.93,\n",
       " 1.69,\n",
       " 0.14,\n",
       " 6.51,\n",
       " 6.5,\n",
       " None,\n",
       " None,\n",
       " None,\n",
       " None,\n",
       " None,\n",
       " None,\n",
       " None,\n",
       " None,\n",
       " None]"
      ]
     },
     "execution_count": 56,
     "metadata": {},
     "output_type": "execute_result"
    }
   ],
   "source": [
    "values = [ws.cell(row=ws.max_row, column=i).value for i in range(1, ws.max_column + 1)]\n",
    "values\n"
   ]
  },
  {
   "cell_type": "code",
   "execution_count": 57,
   "metadata": {},
   "outputs": [],
   "source": [
    "ws.delete_rows(ws.max_row, 1)\n",
    "wb.save('videogamesales.xlsx')\n"
   ]
  },
  {
   "cell_type": "code",
   "execution_count": 58,
   "metadata": {},
   "outputs": [],
   "source": [
    "ws['P1'] = 'Average Sales'\n",
    "ws['P2'] = '= AVERAGE(K2:K16220)'\n",
    "\n",
    "wb.save('videogamesales.xlsx')\n"
   ]
  },
  {
   "cell_type": "code",
   "execution_count": 59,
   "metadata": {},
   "outputs": [],
   "source": [
    "ws['Q1'] = 'Number of Populated Cells'\n",
    "ws['Q2'] = '= COUNTA(E2:E16220)'\n",
    "\n",
    "wb.save('videogamesales.xlsx')\n"
   ]
  },
  {
   "cell_type": "code",
   "execution_count": 60,
   "metadata": {},
   "outputs": [],
   "source": [
    "ws['R1'] = 'Number of Rows with Sports Genre'\n",
    "ws['R2'] = '= COUNTIF(E2:E16220, \"Sports\")'\n",
    "\n",
    "wb.save('videogamesales.xlsx')\n"
   ]
  },
  {
   "cell_type": "code",
   "execution_count": 61,
   "metadata": {},
   "outputs": [],
   "source": [
    "ws['S1'] = 'Total Sports Sales'\n",
    "ws['S2'] = '= SUMIF(E2:E16220, \"Sports\", K2:K16220)'\n",
    "\n",
    "wb.save('videogamesales.xlsx')\n"
   ]
  },
  {
   "cell_type": "code",
   "execution_count": 62,
   "metadata": {},
   "outputs": [],
   "source": [
    "ws['T1'] = 'Rounded Sum of Sports Sales'\n",
    "ws['T2'] = '= CEILING(S2, 25)'\n",
    "\n",
    "wb.save('videogamesales.xlsx')\n"
   ]
  },
  {
   "cell_type": "code",
   "execution_count": 63,
   "metadata": {},
   "outputs": [
    {
     "data": {
      "text/plain": [
       "'vgsales'"
      ]
     },
     "execution_count": 63,
     "metadata": {},
     "output_type": "execute_result"
    }
   ],
   "source": [
    "ws.title\n"
   ]
  },
  {
   "cell_type": "code",
   "execution_count": 70,
   "metadata": {},
   "outputs": [],
   "source": [
    "ws.title = 'Video Game Sales Data'\n",
    "\n",
    "wb.save('videogamesales.xlsx')\n"
   ]
  },
  {
   "cell_type": "code",
   "execution_count": 71,
   "metadata": {},
   "outputs": [
    {
     "data": {
      "text/plain": [
       "['Video Game Sales Data',\n",
       " 'Total Sales by Genre',\n",
       " 'Breakdown of Sales by Genre',\n",
       " 'Breakdown of Sales by Year']"
      ]
     },
     "execution_count": 71,
     "metadata": {},
     "output_type": "execute_result"
    }
   ],
   "source": [
    "wb.sheetnames\n"
   ]
  },
  {
   "cell_type": "code",
   "execution_count": 72,
   "metadata": {},
   "outputs": [
    {
     "name": "stdout",
     "output_type": "stream",
     "text": [
      "['Video Game Sales Data', 'Total Sales by Genre', 'Breakdown of Sales by Genre', 'Breakdown of Sales by Year', 'Empty Sheet']\n"
     ]
    }
   ],
   "source": [
    "wb.create_sheet('Empty Sheet')\n",
    "print(wb.sheetnames)\n",
    "\n",
    "wb.save('videogamesales.xlsx')\n"
   ]
  },
  {
   "cell_type": "code",
   "execution_count": 73,
   "metadata": {},
   "outputs": [
    {
     "name": "stdout",
     "output_type": "stream",
     "text": [
      "['Video Game Sales Data', 'Total Sales by Genre', 'Breakdown of Sales by Genre', 'Breakdown of Sales by Year']\n"
     ]
    }
   ],
   "source": [
    "wb.remove(wb['Empty Sheet'])\n",
    "print(wb.sheetnames)\n",
    "\n",
    "wb.save('videogamesales.xlsx')\n"
   ]
  },
  {
   "cell_type": "code",
   "execution_count": 74,
   "metadata": {},
   "outputs": [],
   "source": [
    "wb.copy_worksheet(wb['Video Game Sales Data'])\n",
    "wb.save('vgsales_2.xlsx')\n"
   ]
  },
  {
   "cell_type": "code",
   "execution_count": 75,
   "metadata": {},
   "outputs": [
    {
     "data": {
      "text/plain": [
       "['Video Game Sales Data',\n",
       " 'Total Sales by Genre',\n",
       " 'Breakdown of Sales by Genre',\n",
       " 'Breakdown of Sales by Year',\n",
       " 'Video Game Sales Data Copy']"
      ]
     },
     "execution_count": 75,
     "metadata": {},
     "output_type": "execute_result"
    }
   ],
   "source": [
    "wb.sheetnames\n"
   ]
  },
  {
   "cell_type": "code",
   "execution_count": 76,
   "metadata": {},
   "outputs": [],
   "source": [
    "ws = wb['Total Sales by Genre']\n"
   ]
  },
  {
   "cell_type": "code",
   "execution_count": 77,
   "metadata": {},
   "outputs": [],
   "source": [
    "from openpyxl.chart import Reference\n"
   ]
  },
  {
   "cell_type": "code",
   "execution_count": 78,
   "metadata": {},
   "outputs": [],
   "source": [
    "values = Reference(ws, min_col=2, max_col=2, min_row=1, max_row=13)\n"
   ]
  },
  {
   "cell_type": "code",
   "execution_count": 79,
   "metadata": {},
   "outputs": [],
   "source": [
    "cats = Reference(ws, min_col=1, max_col=1, min_row=2, max_row=13)\n"
   ]
  },
  {
   "cell_type": "code",
   "execution_count": 81,
   "metadata": {},
   "outputs": [],
   "source": [
    "from openpyxl.chart import BarChart\n"
   ]
  },
  {
   "cell_type": "code",
   "execution_count": 82,
   "metadata": {},
   "outputs": [],
   "source": [
    "chart = BarChart()\n",
    "chart.add_data(values, titles_from_data=True)\n",
    "chart.set_categories(cats)\n"
   ]
  },
  {
   "cell_type": "code",
   "execution_count": 83,
   "metadata": {},
   "outputs": [],
   "source": [
    "chart.title = 'Total Sales'\n",
    "chart.x_axis.title = 'Genre'\n",
    "chart.y_axis.title = 'Total Sales by Genre'\n",
    "\n",
    "ws.add_chart(chart, 'D2')\n",
    "wb.save('videogamesales.xlsx')\n"
   ]
  },
  {
   "cell_type": "code",
   "execution_count": 84,
   "metadata": {},
   "outputs": [],
   "source": [
    "ws = wb['Breakdown of Sales by Genre']\n",
    "\n",
    "values = Reference(ws, min_col=2, max_col=5, min_row=1, max_row=13)\n",
    "cats = Reference(ws, min_col=1, max_col=1, min_row=2, max_row=13)\n"
   ]
  },
  {
   "cell_type": "code",
   "execution_count": 85,
   "metadata": {},
   "outputs": [],
   "source": [
    "chart = BarChart()\n",
    "chart.add_data(values, titles_from_data=True)\n",
    "chart.set_categories(cats)\n",
    "\n",
    "chart.title = 'Sales Breakdown'\n",
    "chart.x_axis.title = 'Genre'\n",
    "chart.y_axis.title = 'Breakdown of Sales by Genre'\n",
    "\n",
    "ws.add_chart(chart, 'H2')\n",
    "\n",
    "wb.save('videogamesales.xlsx')\n"
   ]
  },
  {
   "cell_type": "code",
   "execution_count": 86,
   "metadata": {},
   "outputs": [],
   "source": [
    "values = Reference(ws, min_col=2, max_col=6, min_row=1, max_row=40)\n",
    "cats = Reference(ws, min_col=1, max_col=1, min_row=2, max_row=40)\n"
   ]
  },
  {
   "cell_type": "code",
   "execution_count": 87,
   "metadata": {},
   "outputs": [],
   "source": [
    "from openpyxl.chart import LineChart\n"
   ]
  },
  {
   "cell_type": "code",
   "execution_count": 88,
   "metadata": {},
   "outputs": [],
   "source": [
    "chart = LineChart()\n",
    "chart.add_data(values, titles_from_data=True)\n",
    "chart.set_categories(cats)\n",
    "\n",
    "chart.title = 'Total Sales'\n",
    "chart.x_axis.title = 'Year'\n",
    "chart.y_axis.title = 'Total Sales by Year'\n",
    "\n",
    "ws.add_chart(chart, 'H2')\n",
    "\n",
    "wb.save('videogamesales.xlsx')\n"
   ]
  },
  {
   "cell_type": "code",
   "execution_count": 89,
   "metadata": {},
   "outputs": [],
   "source": [
    "from openpyxl.styles import Font\n"
   ]
  },
  {
   "cell_type": "code",
   "execution_count": 90,
   "metadata": {},
   "outputs": [],
   "source": [
    "ws = wb['Video Game Sales Data']\n",
    "ws['A1'].font = Font(bold=True, size=12)\n",
    "\n",
    "wb.save('videogamesales.xlsx')\n"
   ]
  },
  {
   "cell_type": "code",
   "execution_count": 92,
   "metadata": {},
   "outputs": [],
   "source": [
    "for cell in ws['1:1']:\n",
    "    cell.font = Font(bold=True, size=12)\n",
    "\n",
    "wb.save('videogamesales.xlsx')\n"
   ]
  },
  {
   "cell_type": "code",
   "execution_count": 93,
   "metadata": {},
   "outputs": [],
   "source": [
    "from openpyxl.styles import colors\n"
   ]
  },
  {
   "cell_type": "code",
   "execution_count": 94,
   "metadata": {},
   "outputs": [],
   "source": [
    "ws['A1'].font = Font(color='FF0000', bold=True, size=12)\n",
    "ws['A2'].font = Font(color='0000FF')\n",
    "\n",
    "wb.save('videogamesales.xlsx')\n"
   ]
  },
  {
   "cell_type": "code",
   "execution_count": 95,
   "metadata": {},
   "outputs": [],
   "source": [
    "from openpyxl.styles import PatternFill\n"
   ]
  },
  {
   "cell_type": "code",
   "execution_count": 96,
   "metadata": {},
   "outputs": [],
   "source": [
    "ws['A1'].fill = PatternFill('solid', start_color='38e3ff')\n",
    "\n",
    "wb.save('videogamesales.xlsx')\n"
   ]
  },
  {
   "cell_type": "code",
   "execution_count": 97,
   "metadata": {},
   "outputs": [],
   "source": [
    "from openpyxl.styles import Border, Side\n"
   ]
  },
  {
   "cell_type": "code",
   "execution_count": 98,
   "metadata": {},
   "outputs": [],
   "source": [
    "my_border = Side(border_style='thin', color='000000')\n",
    "\n",
    "ws['A1'].border = Border(top=my_border, left=my_border, right=my_border, bottom=my_border)\n",
    "\n",
    "wb.save('videogamesales.xlsx')\n"
   ]
  },
  {
   "cell_type": "code",
   "execution_count": 99,
   "metadata": {},
   "outputs": [],
   "source": [
    "from openpyxl.formatting.rule import CellIsRule\n"
   ]
  },
  {
   "cell_type": "code",
   "execution_count": 100,
   "metadata": {},
   "outputs": [],
   "source": [
    "fill = PatternFill(start_color='90EE90', end_color='90EE90', fill_type='solid')\n",
    "\n",
    "ws.conditional_formatting.add('G2:K16594', CellIsRule(operator='greaterThan', formula=[8], fill=fill))\n",
    "\n",
    "wb.save('videogamesales.xlsx')\n"
   ]
  }
 ],
 "metadata": {
  "kernelspec": {
   "display_name": "Python 3",
   "language": "python",
   "name": "python3"
  },
  "language_info": {
   "codemirror_mode": {
    "name": "ipython",
    "version": 3
   },
   "file_extension": ".py",
   "mimetype": "text/x-python",
   "name": "python",
   "nbconvert_exporter": "python",
   "pygments_lexer": "ipython3",
   "version": "3.10.4"
  },
  "orig_nbformat": 4
 },
 "nbformat": 4,
 "nbformat_minor": 2
}
