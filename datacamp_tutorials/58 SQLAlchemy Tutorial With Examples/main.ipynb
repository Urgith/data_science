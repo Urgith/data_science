{
 "cells": [
  {
   "cell_type": "code",
   "execution_count": 20,
   "metadata": {},
   "outputs": [],
   "source": [
    "import sqlalchemy\n"
   ]
  },
  {
   "cell_type": "code",
   "execution_count": 21,
   "metadata": {},
   "outputs": [
    {
     "data": {
      "text/plain": [
       "'2.0.21'"
      ]
     },
     "execution_count": 21,
     "metadata": {},
     "output_type": "execute_result"
    }
   ],
   "source": [
    "sqlalchemy.__version__\n"
   ]
  },
  {
   "cell_type": "code",
   "execution_count": 22,
   "metadata": {},
   "outputs": [],
   "source": [
    "import sqlalchemy as db\n"
   ]
  },
  {
   "cell_type": "code",
   "execution_count": 23,
   "metadata": {},
   "outputs": [],
   "source": [
    "engine = db.create_engine('sqlite:///european_database.sqlite')\n",
    "conn = engine.connect()\n"
   ]
  },
  {
   "cell_type": "code",
   "execution_count": 24,
   "metadata": {},
   "outputs": [],
   "source": [
    "metadata = db.MetaData()\n",
    "division = db.Table('divisions', metadata, autoload_with=engine)\n"
   ]
  },
  {
   "cell_type": "code",
   "execution_count": 25,
   "metadata": {},
   "outputs": [
    {
     "name": "stdout",
     "output_type": "stream",
     "text": [
      "Table('divisions', MetaData(), Column('division', TEXT(), table=<divisions>), Column('name', TEXT(), table=<divisions>), Column('country', TEXT(), table=<divisions>), schema=None)\n"
     ]
    }
   ],
   "source": [
    "print(repr(metadata.tables['divisions']))\n"
   ]
  },
  {
   "cell_type": "code",
   "execution_count": 26,
   "metadata": {},
   "outputs": [
    {
     "name": "stdout",
     "output_type": "stream",
     "text": [
      "['division', 'name', 'country']\n"
     ]
    }
   ],
   "source": [
    "print(division.columns.keys())\n"
   ]
  },
  {
   "cell_type": "code",
   "execution_count": 27,
   "metadata": {},
   "outputs": [
    {
     "name": "stdout",
     "output_type": "stream",
     "text": [
      "SELECT divisions.division, divisions.name, divisions.country \n",
      "FROM divisions\n"
     ]
    }
   ],
   "source": [
    "query = division.select()\n",
    "print(query)\n"
   ]
  },
  {
   "cell_type": "code",
   "execution_count": 28,
   "metadata": {},
   "outputs": [
    {
     "data": {
      "text/plain": [
       "[('B1', 'Division 1A', 'Belgium'),\n",
       " ('D1', 'Bundesliga', 'Deutschland'),\n",
       " ('D2', '2. Bundesliga', 'Deutschland'),\n",
       " ('E0', 'Premier League', 'England'),\n",
       " ('E1', 'EFL Championship', 'England')]"
      ]
     },
     "execution_count": 28,
     "metadata": {},
     "output_type": "execute_result"
    }
   ],
   "source": [
    "exe = conn.execute(query)\n",
    "result = exe.fetchmany(5)\n",
    "result\n"
   ]
  },
  {
   "cell_type": "code",
   "execution_count": 30,
   "metadata": {},
   "outputs": [],
   "source": [
    "engine = db.create_engine('sqlite:///datacamp.sqlite')\n",
    "conn = engine.connect()\n",
    "metadata = db.MetaData()\n"
   ]
  },
  {
   "cell_type": "code",
   "execution_count": 32,
   "metadata": {},
   "outputs": [],
   "source": [
    "Student = db.Table('Student', metadata,\n",
    "                   db.Column('Id', db.Integer(), primary_key=True),\n",
    "                   db.Column('Name', db.String(255), nullable=False),\n",
    "                   db.Column('Major', db.String(255), default='MAth'),\n",
    "                   db.Column('Pass', db.Boolean(), default=True)\n",
    ")\n"
   ]
  },
  {
   "cell_type": "code",
   "execution_count": 33,
   "metadata": {},
   "outputs": [],
   "source": [
    "metadata.create_all(engine)\n"
   ]
  },
  {
   "cell_type": "code",
   "execution_count": 34,
   "metadata": {},
   "outputs": [],
   "source": [
    "query = db.insert(Student).values(Id=1, Name='Matthew', Major='English', Pass=True)\n",
    "Result = conn.execute(query)\n"
   ]
  },
  {
   "cell_type": "code",
   "execution_count": 35,
   "metadata": {},
   "outputs": [
    {
     "data": {
      "text/plain": [
       "[(1, 'Matthew', 'English', True)]"
      ]
     },
     "execution_count": 35,
     "metadata": {},
     "output_type": "execute_result"
    }
   ],
   "source": [
    "output = conn.execute(Student.select()).fetchall()\n",
    "output\n"
   ]
  },
  {
   "cell_type": "code",
   "execution_count": 36,
   "metadata": {},
   "outputs": [],
   "source": [
    "query = db.insert(Student)\n",
    "\n",
    "values_list = [{'Id': '2', 'Name': 'Nisha', 'Major': 'Science', 'Pass': False},\n",
    "               {'Id': '3', 'Name': 'Natasha', 'Major': ' Math', 'Pass': True},\n",
    "               {'Id': '4', 'Name': 'Ben', 'Major': 'English', 'Pass': False}]\n",
    "\n",
    "Result = conn.execute(query, values_list)\n"
   ]
  },
  {
   "cell_type": "code",
   "execution_count": 39,
   "metadata": {},
   "outputs": [],
   "source": [
    "# ERROR\n",
    "#output = conn.execute(db.select([Student])).fetchall()\n",
    "#output\n"
   ]
  },
  {
   "cell_type": "code",
   "execution_count": 41,
   "metadata": {},
   "outputs": [],
   "source": [
    "# ERROR\n",
    "#output = conn.execute('SELECT * FROM Student')\n",
    "#output.fetchall()\n"
   ]
  },
  {
   "cell_type": "code",
   "execution_count": 43,
   "metadata": {},
   "outputs": [],
   "source": [
    "# ERROR\n",
    "#output = conn.execute('SELECT Name, Major FROM Student WHERE Pass = True')\n",
    "#output.fetchall()\n"
   ]
  },
  {
   "cell_type": "code",
   "execution_count": 44,
   "metadata": {},
   "outputs": [
    {
     "data": {
      "text/plain": [
       "[(1, 'Matthew', 'English', True), (4, 'Ben', 'English', False)]"
      ]
     },
     "execution_count": 44,
     "metadata": {},
     "output_type": "execute_result"
    }
   ],
   "source": [
    "query = Student.select().where(Student.columns.Major == 'English')\n",
    "output = conn.execute(query)\n",
    "output.fetchall()\n"
   ]
  },
  {
   "cell_type": "code",
   "execution_count": 45,
   "metadata": {},
   "outputs": [
    {
     "data": {
      "text/plain": [
       "[(4, 'Ben', 'English', False)]"
      ]
     },
     "execution_count": 45,
     "metadata": {},
     "output_type": "execute_result"
    }
   ],
   "source": [
    "query = Student.select().where(db.and_(Student.columns.Major == 'English', Student.columns.Pass != True))\n",
    "output = conn.execute(query)\n",
    "output.fetchall()\n"
   ]
  },
  {
   "cell_type": "code",
   "execution_count": 46,
   "metadata": {},
   "outputs": [
    {
     "data": {
      "text/plain": [
       "[(1, 'Matthew', 'English', True), (4, 'Ben', 'English', False)]"
      ]
     },
     "execution_count": 46,
     "metadata": {},
     "output_type": "execute_result"
    }
   ],
   "source": [
    "conn.execute(Student.select().where(Student.columns.Major.in_(['English', 'Math']))).fetchall()\n"
   ]
  },
  {
   "cell_type": "code",
   "execution_count": 47,
   "metadata": {},
   "outputs": [
    {
     "data": {
      "text/plain": [
       "[(1, 'Matthew', 'English', True),\n",
       " (3, 'Natasha', ' Math', True),\n",
       " (4, 'Ben', 'English', False)]"
      ]
     },
     "execution_count": 47,
     "metadata": {},
     "output_type": "execute_result"
    }
   ],
   "source": [
    "conn.execute(Student.select().where(db.or_(Student.columns.Major == 'English', Student.columns.Pass == True))).fetchall()\n"
   ]
  },
  {
   "cell_type": "code",
   "execution_count": 48,
   "metadata": {},
   "outputs": [
    {
     "data": {
      "text/plain": [
       "[(2, 'Nisha', 'Science', False),\n",
       " (3, 'Natasha', ' Math', True),\n",
       " (1, 'Matthew', 'English', True),\n",
       " (4, 'Ben', 'English', False)]"
      ]
     },
     "execution_count": 48,
     "metadata": {},
     "output_type": "execute_result"
    }
   ],
   "source": [
    "conn.execute(Student.select().order_by(db.desc(Student.columns.Name))).fetchall()\n"
   ]
  },
  {
   "cell_type": "code",
   "execution_count": 49,
   "metadata": {},
   "outputs": [
    {
     "data": {
      "text/plain": [
       "[(1, 'Matthew', 'English', True),\n",
       " (2, 'Nisha', 'Science', False),\n",
       " (3, 'Natasha', ' Math', True)]"
      ]
     },
     "execution_count": 49,
     "metadata": {},
     "output_type": "execute_result"
    }
   ],
   "source": [
    "conn.execute(Student.select().limit(3)).fetchall()\n"
   ]
  },
  {
   "cell_type": "code",
   "execution_count": 52,
   "metadata": {},
   "outputs": [],
   "source": [
    "# ERROR\n",
    "#conn.execute(db.select([db.func.sum(Student.columns.Id)])).fetchall()\n"
   ]
  },
  {
   "cell_type": "code",
   "execution_count": 55,
   "metadata": {},
   "outputs": [],
   "source": [
    "# ERROR\n",
    "#conn.execute(db.select([db.func.sum(Student.columns.Id),Student.columns.Major]).group_by(Student.columns.Pass)).fetchall()\n"
   ]
  },
  {
   "cell_type": "code",
   "execution_count": 58,
   "metadata": {},
   "outputs": [],
   "source": [
    "# ERROR\n",
    "#db.select(db.select([Student.columns.Major.distinct()])).fetchall()\n"
   ]
  },
  {
   "cell_type": "code",
   "execution_count": 59,
   "metadata": {},
   "outputs": [
    {
     "data": {
      "text/plain": [
       "[(1, 'Matthew', 'English', True), (4, 'Ben', 'English', False)]"
      ]
     },
     "execution_count": 59,
     "metadata": {},
     "output_type": "execute_result"
    }
   ],
   "source": [
    "query = Student.select().where(Student.columns.Major.in_(['English', 'Math']))\n",
    "\n",
    "output = conn.execute(query)\n",
    "results = output.fetchall()\n",
    "results\n"
   ]
  },
  {
   "cell_type": "code",
   "execution_count": 61,
   "metadata": {},
   "outputs": [],
   "source": [
    "import pandas as pd\n"
   ]
  },
  {
   "cell_type": "code",
   "execution_count": 63,
   "metadata": {},
   "outputs": [],
   "source": [
    "# ERROR\n",
    "#data = pd.DataFrame(results)\n",
    "#data.columns = results[0].keys()\n",
    "#data\n"
   ]
  },
  {
   "cell_type": "code",
   "execution_count": 66,
   "metadata": {},
   "outputs": [],
   "source": [
    "# ERROR\n",
    "#engine = db.create_engine(\"sqlite:///european_database.sqlite\")\n",
    "#conn = engine.connect()\n",
    "#metadata = db.MetaData()\n",
    "\n",
    "#division = db.Table('divisions', metadata, autoload=True, autoload_with=engine)\n",
    "#match = db.Table('matchs', metadata, autoload=True, autoload_with=engine)\n"
   ]
  },
  {
   "cell_type": "code",
   "execution_count": 68,
   "metadata": {},
   "outputs": [],
   "source": [
    "# ERROR\n",
    "#query = db.select([division, match]).select_from(division.join(match, division.columns.division == match.columns.Div)). \\\n",
    "#        where(db.and_(division.columns.division == 'E1', match.columns.season == 2009)). \\\n",
    "#        order_by(match.columns.HomeTeam)\n",
    "\n",
    "#output = conn.execute(query)\n",
    "#results = output.fetchall()\n",
    "\n",
    "#data = pd.DataFrame(results)\n",
    "#data.columns = results[0].keys()\n",
    "#data\n"
   ]
  },
  {
   "cell_type": "code",
   "execution_count": 69,
   "metadata": {},
   "outputs": [],
   "source": [
    "import matplotlib.pyplot as plt\n",
    "import seaborn as sns\n"
   ]
  },
  {
   "cell_type": "code",
   "execution_count": 71,
   "metadata": {},
   "outputs": [],
   "source": [
    "# ERROR\n",
    "#sns.set_theme(style='whitegrid')\n",
    "\n",
    "#f, ax = plt.subplots(figsize=(15, 6))\n",
    "#plt.xticks(rotation=90)\n",
    "\n",
    "#sns.set_color_codes('pastel')\n",
    "\n",
    "#sns.barplot(x='HomeTeam', y='FTHG', data=data, label='Home Team Goals', color='b')\n",
    "#sns.barplto(x='HomeTeam', y='FTAG', data=data, label='Away Team Goals', color='r')\n",
    "\n",
    "#ax.legend(ncol=2, loc='upper left', frameon=True)\n",
    "#ax.set(ylabel='', xlabel='')\n",
    "\n",
    "#sns.despine(left=True, bottorm=True)\n"
   ]
  },
  {
   "cell_type": "code",
   "execution_count": 74,
   "metadata": {},
   "outputs": [],
   "source": [
    "# ERROR\n",
    "#output = conn.execute(\"SELECT * FROM matches WHERE HomeTeam LIKE 'Norwich'\")\n",
    "#results = output.fetchall()\n",
    "\n",
    "#data = pd.DataFrame(results)\n",
    "#data.colimns = results[0].keys()\n",
    "data.to_csv('SQL_results.csv', index=False)\n"
   ]
  },
  {
   "cell_type": "code",
   "execution_count": 75,
   "metadata": {},
   "outputs": [],
   "source": [
    "engine = db.create_engine('sqlite:///datacamp.sqlite')\n"
   ]
  },
  {
   "cell_type": "code",
   "execution_count": 79,
   "metadata": {},
   "outputs": [],
   "source": [
    "# ERROR\n",
    "#df = pd.read_csv('indexProcessed.csv')\n",
    "#df.to_sql(con=engine, name=\"Stock_price\", if_exists='replace', index=False)\n"
   ]
  },
  {
   "cell_type": "code",
   "execution_count": 81,
   "metadata": {},
   "outputs": [],
   "source": [
    "# ERROR\n",
    "#conn = engine.connect()\n",
    "#metadata = db.MetaData()\n",
    "\n",
    "#stock = db.Table('Stock_price', metadata, autoload=True, autoload_with=engine)\n"
   ]
  },
  {
   "cell_type": "code",
   "execution_count": 83,
   "metadata": {},
   "outputs": [],
   "source": [
    "# ERROR\n",
    "#query = stock.select()\n",
    "#exe = conn.execute(query)\n",
    "#result = exe.fetchmany(5)\n",
    "\n",
    "#for r in result:\n",
    "#    print(r)\n"
   ]
  },
  {
   "cell_type": "code",
   "execution_count": 86,
   "metadata": {},
   "outputs": [],
   "source": [
    "# ERROR\n",
    "#Student = db.Table('Student', metadata, autoload=True, autoload_with=engine)\n",
    "\n",
    "#query = Student.update().values(Pass=True).where(Student.columns.Name == 'Nisha')\n",
    "#resuls = conn.execute(query)\n"
   ]
  },
  {
   "cell_type": "code",
   "execution_count": 88,
   "metadata": {},
   "outputs": [],
   "source": [
    "# ERROR\n",
    "#output = conn.execute(Student.select()).fetchall()\n",
    "\n",
    "#data = pd.DataFrame(output)\n",
    "#data.columns = output[0].keys()\n",
    "#data\n"
   ]
  },
  {
   "cell_type": "code",
   "execution_count": 90,
   "metadata": {},
   "outputs": [],
   "source": [
    "# ERROR\n",
    "#Student = db.Table('Student', metadata, autoload=True, autoload_with=engine)\n",
    "\n",
    "#query = Student.delete().where(Student.columns.Name == 'Ben')\n",
    "#results = conn.execute(query)\n"
   ]
  },
  {
   "cell_type": "code",
   "execution_count": 92,
   "metadata": {},
   "outputs": [],
   "source": [
    "# ERROR\n",
    "#output = conn.execute(Student.select()).fetchall()\n",
    "\n",
    "#data = pd.DataFrame(output)\n",
    "#data.columns = output[0].keys()\n",
    "#data\n"
   ]
  },
  {
   "cell_type": "code",
   "execution_count": 94,
   "metadata": {},
   "outputs": [],
   "source": [
    "# ERROR\n",
    "#results.close()\n",
    "#exe.close()\n"
   ]
  },
  {
   "cell_type": "code",
   "execution_count": 96,
   "metadata": {},
   "outputs": [],
   "source": [
    "# ERROR\n",
    "#metadata.drop_all(engine, [Student], checkfirst=True)\n"
   ]
  },
  {
   "cell_type": "code",
   "execution_count": 99,
   "metadata": {},
   "outputs": [],
   "source": [
    "# ERROR\n",
    "#metadata.drop_all(engine)\n"
   ]
  }
 ],
 "metadata": {
  "kernelspec": {
   "display_name": "Python 3",
   "language": "python",
   "name": "python3"
  },
  "language_info": {
   "codemirror_mode": {
    "name": "ipython",
    "version": 3
   },
   "file_extension": ".py",
   "mimetype": "text/x-python",
   "name": "python",
   "nbconvert_exporter": "python",
   "pygments_lexer": "ipython3",
   "version": "3.10.4"
  },
  "orig_nbformat": 4
 },
 "nbformat": 4,
 "nbformat_minor": 2
}
