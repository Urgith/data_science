{
 "cells": [
  {
   "cell_type": "code",
   "execution_count": 1,
   "metadata": {},
   "outputs": [],
   "source": [
    "from datetime import date\n"
   ]
  },
  {
   "cell_type": "code",
   "execution_count": 2,
   "metadata": {},
   "outputs": [
    {
     "data": {
      "text/plain": [
       "'2023-03-01'"
      ]
     },
     "execution_count": 2,
     "metadata": {},
     "output_type": "execute_result"
    }
   ],
   "source": [
    "start_date = date(2023, 3, 1)\n",
    "\n",
    "year = start_date.year\n",
    "month = start_date.month\n",
    "day = start_date.day\n",
    "\n",
    "weekday = start_date.weekday()\n",
    "\n",
    "date_str = start_date.strftime('%Y-%m-%d')\n",
    "date_str\n"
   ]
  },
  {
   "cell_type": "code",
   "execution_count": 3,
   "metadata": {},
   "outputs": [],
   "source": [
    "from datetime import time\n"
   ]
  },
  {
   "cell_type": "code",
   "execution_count": 4,
   "metadata": {},
   "outputs": [],
   "source": [
    "end_time = time(15, 45, 30, 500000)\n",
    "\n",
    "hour = end_time.hour\n",
    "minute = end_time.minute\n",
    "second = end_time.second\n",
    "microsecond = end_time.microsecond\n"
   ]
  },
  {
   "cell_type": "code",
   "execution_count": 5,
   "metadata": {},
   "outputs": [],
   "source": [
    "from datetime import datetime\n"
   ]
  },
  {
   "cell_type": "code",
   "execution_count": 6,
   "metadata": {},
   "outputs": [],
   "source": [
    "start_datetime = datetime(2023, 3, 1, 9, 30)\n",
    "\n",
    "year = start_datetime.year\n",
    "month = start_datetime.month\n",
    "day = start_datetime.day\n",
    "\n",
    "hour = start_datetime.hour\n",
    "minute = start_datetime.minute\n"
   ]
  },
  {
   "cell_type": "code",
   "execution_count": 7,
   "metadata": {},
   "outputs": [],
   "source": [
    "from datetime import timedelta\n"
   ]
  },
  {
   "cell_type": "code",
   "execution_count": 8,
   "metadata": {},
   "outputs": [],
   "source": [
    "event_duration = timedelta(hours=3, minutes=15)\n",
    "\n",
    "event_duration_seconds = event_duration.total_seconds()\n",
    "\n",
    "event_start_time = datetime(2023, 3, 1, 18, 15)\n",
    "event_end_time = event_start_time + event_duration\n"
   ]
  },
  {
   "cell_type": "code",
   "execution_count": 9,
   "metadata": {},
   "outputs": [],
   "source": [
    "from datetime import datetime\n"
   ]
  },
  {
   "cell_type": "code",
   "execution_count": 10,
   "metadata": {},
   "outputs": [
    {
     "data": {
      "text/plain": [
       "datetime.datetime(2023, 2, 28, 14, 30)"
      ]
     },
     "execution_count": 10,
     "metadata": {},
     "output_type": "execute_result"
    }
   ],
   "source": [
    "date_str = '2023-02-28 14:30:00'\n",
    "date_format = '%Y-%m-%d %H:%M:%S'\n",
    "\n",
    "date_obj = datetime.strptime(date_str, date_format)\n",
    "date_obj\n"
   ]
  },
  {
   "cell_type": "code",
   "execution_count": 11,
   "metadata": {},
   "outputs": [
    {
     "data": {
      "text/plain": [
       "datetime.datetime(2023, 2, 28, 14, 30)"
      ]
     },
     "execution_count": 11,
     "metadata": {},
     "output_type": "execute_result"
    }
   ],
   "source": [
    "date_str = '02/28/2023 02:30 PM'\n",
    "date_format = '%m/%d/%Y %I:%M %p'\n",
    "\n",
    "date_obj = datetime.strptime(date_str, date_format)\n",
    "date_obj\n"
   ]
  },
  {
   "cell_type": "code",
   "execution_count": 12,
   "metadata": {},
   "outputs": [],
   "source": [
    "from datetime import datetime\n"
   ]
  },
  {
   "cell_type": "code",
   "execution_count": 13,
   "metadata": {},
   "outputs": [
    {
     "data": {
      "text/plain": [
       "datetime.datetime(2023, 2, 28, 14, 30, tzinfo=datetime.timezone(datetime.timedelta(seconds=19800)))"
      ]
     },
     "execution_count": 13,
     "metadata": {},
     "output_type": "execute_result"
    }
   ],
   "source": [
    "date_str = '2023-02-28 14:30:00+05:30'\n",
    "date_format = '%Y-%m-%d %H:%M:%S%z'\n",
    "\n",
    "date_obj = datetime.strptime(date_str, date_format)\n",
    "date_obj\n"
   ]
  },
  {
   "cell_type": "code",
   "execution_count": 14,
   "metadata": {},
   "outputs": [],
   "source": [
    "import datetime\n"
   ]
  },
  {
   "cell_type": "code",
   "execution_count": 15,
   "metadata": {},
   "outputs": [
    {
     "data": {
      "text/plain": [
       "datetime.datetime(2023, 3, 1, 0, 0)"
      ]
     },
     "execution_count": 15,
     "metadata": {},
     "output_type": "execute_result"
    }
   ],
   "source": [
    "date_str = '23-03-01'\n",
    "date_obj = datetime.datetime.strptime(date_str, '%y-%m-%d')\n",
    "date_obj\n"
   ]
  },
  {
   "cell_type": "code",
   "execution_count": 17,
   "metadata": {},
   "outputs": [
    {
     "data": {
      "text/plain": [
       "datetime.datetime(1900, 1, 1, 8, 30)"
      ]
     },
     "execution_count": 17,
     "metadata": {},
     "output_type": "execute_result"
    }
   ],
   "source": [
    "time_str = '8:30'\n",
    "time_obj = datetime.datetime.strptime(time_str, '%H:%M')\n",
    "time_obj\n"
   ]
  },
  {
   "cell_type": "code",
   "execution_count": 20,
   "metadata": {},
   "outputs": [],
   "source": [
    "# ERROR\n",
    "#date_int = 20230301\n",
    "#date_obj = datetime.datetime.strptime(date_int, '%Y%m%d')\n",
    "#date_obj\n",
    "\n",
    "#date_list = [2023, 3, 1]\n",
    "#date_obj = datetime.datetime.strptime(date_list, '%Y-%m-%d')\n",
    "#date_obj\n"
   ]
  },
  {
   "cell_type": "code",
   "execution_count": 23,
   "metadata": {},
   "outputs": [],
   "source": [
    "# ERROR\n",
    "#date_str = '2023-03-01 12:30:00'\n",
    "#date_obj = datetime.datetime.strptime(date_str, '%Y-%m-%d')\n",
    "\n",
    "#date_str = '2023-03-01T00:00:00Z'\n",
    "#date_obj = datetime.datetime.strptime(date_str, '%Y-%m-%d')\n"
   ]
  }
 ],
 "metadata": {
  "kernelspec": {
   "display_name": "Python 3",
   "language": "python",
   "name": "python3"
  },
  "language_info": {
   "codemirror_mode": {
    "name": "ipython",
    "version": 3
   },
   "file_extension": ".py",
   "mimetype": "text/x-python",
   "name": "python",
   "nbconvert_exporter": "python",
   "pygments_lexer": "ipython3",
   "version": "3.10.4"
  },
  "orig_nbformat": 4
 },
 "nbformat": 4,
 "nbformat_minor": 2
}
