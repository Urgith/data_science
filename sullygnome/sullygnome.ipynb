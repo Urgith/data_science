{
 "cells": [
  {
   "cell_type": "code",
   "execution_count": 1,
   "metadata": {},
   "outputs": [],
   "source": [
    "from datetime import datetime\n",
    "from datetime import timedelta\n",
    "import pandas as pd\n",
    "import glob\n",
    "import re\n"
   ]
  },
  {
   "cell_type": "code",
   "execution_count": 2,
   "metadata": {},
   "outputs": [],
   "source": [
    "empty = pd.DataFrame()\n"
   ]
  },
  {
   "cell_type": "code",
   "execution_count": 3,
   "metadata": {},
   "outputs": [],
   "source": [
    "for file in glob.glob('data/*.csv'):\n",
    "    number = re.search('\\d+', file)\n",
    "    number = int(number.group())\n",
    "\n",
    "    new = pd.read_csv(file)\n",
    "    new = pd.concat([new.iloc[:, 0], new.iloc[:, 2:-1]], axis=1)\n",
    "\n",
    "    new['Beg date'] = datetime(2016 + number // 12, 1 + number % 12, 1)\n",
    "    new['End date'] = datetime(2016 + (number + 1) // 12, 1 + (1 + number) % 12, 1) - timedelta(seconds=1)\n",
    "\n",
    "    new.columns = ['Ranking'] + list(new.columns[1:])\n",
    "\n",
    "    empty = pd.concat([empty, new])\n"
   ]
  },
  {
   "cell_type": "code",
   "execution_count": 4,
   "metadata": {},
   "outputs": [],
   "source": [
    "empty.to_excel('twitch_data.xlsx', index=False)\n"
   ]
  }
 ],
 "metadata": {
  "kernelspec": {
   "display_name": "Python 3",
   "language": "python",
   "name": "python3"
  },
  "language_info": {
   "codemirror_mode": {
    "name": "ipython",
    "version": 3
   },
   "file_extension": ".py",
   "mimetype": "text/x-python",
   "name": "python",
   "nbconvert_exporter": "python",
   "pygments_lexer": "ipython3",
   "version": "3.10.4"
  },
  "orig_nbformat": 4
 },
 "nbformat": 4,
 "nbformat_minor": 2
}
